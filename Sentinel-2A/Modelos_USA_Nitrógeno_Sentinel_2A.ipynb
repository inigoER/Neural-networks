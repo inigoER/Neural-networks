{
  "nbformat": 4,
  "nbformat_minor": 0,
  "metadata": {
    "colab": {
      "name": "Modelos USA Nitrógeno Sentinel 2A.ipynb",
      "provenance": [],
      "authorship_tag": "ABX9TyN/i29daAPbzsw21iPuA/9b",
      "include_colab_link": true
    },
    "kernelspec": {
      "name": "python3",
      "display_name": "Python 3"
    },
    "language_info": {
      "name": "python"
    }
  },
  "cells": [
    {
      "cell_type": "markdown",
      "metadata": {
        "id": "view-in-github",
        "colab_type": "text"
      },
      "source": [
        "<a href=\"https://colab.research.google.com/github/inigoER/Neural-networks/blob/main/Sentinel-2A/Modelos_USA_Nitr%C3%B3geno_Sentinel_2A.ipynb\" target=\"_parent\"><img src=\"https://colab.research.google.com/assets/colab-badge.svg\" alt=\"Open In Colab\"/></a>"
      ]
    },
    {
      "cell_type": "markdown",
      "source": [
        "# Preparación"
      ],
      "metadata": {
        "id": "bmhYAg1KmI6E"
      }
    },
    {
      "cell_type": "code",
      "execution_count": 1,
      "metadata": {
        "colab": {
          "base_uri": "https://localhost:8080/"
        },
        "id": "52WRgMMRJ2gY",
        "outputId": "5a05617e-dcff-49a0-bc72-e188cf708b0e"
      },
      "outputs": [
        {
          "output_type": "stream",
          "name": "stdout",
          "text": [
            "Looking in indexes: https://pypi.org/simple, https://us-python.pkg.dev/colab-wheels/public/simple/\n",
            "Requirement already satisfied: openpyxl in /usr/local/lib/python3.7/dist-packages (3.0.10)\n",
            "Requirement already satisfied: et-xmlfile in /usr/local/lib/python3.7/dist-packages (from openpyxl) (1.1.0)\n"
          ]
        }
      ],
      "source": [
        "!pip install openpyxl --upgrade"
      ]
    },
    {
      "cell_type": "code",
      "source": [
        "import pandas as pd\n",
        "import numpy as np\n",
        "import matplotlib.pyplot as plt\n",
        "import plotly.express as px"
      ],
      "metadata": {
        "id": "Uzups7oKJ4Tn"
      },
      "execution_count": 2,
      "outputs": []
    },
    {
      "cell_type": "code",
      "source": [
        "def remove_out(DataIn, colName):\n",
        "  q_l=DataIn[colName].quantile(0.25)\n",
        "  q_h=DataIn[colName].quantile(0.75)\n",
        "  IQR=q_h-q_l\n",
        "  OutRange=IQR*1.5\n",
        "  qoutl=(q_l-OutRange)\n",
        "  qouth=(q_h+OutRange)\n",
        "  DataOut=DataIn[(DataIn[colName] < qouth) & (DataIn[colName] > qoutl)]\n",
        "  return DataOut\n",
        "def getQuartiles(df,col):\n",
        "  quartArray=(df[col].quantile(0),df[col].quantile(0.25),df[col].quantile(0.5),df[col].quantile(0.75),df[col].quantile(1))\n",
        "  return quartArray"
      ],
      "metadata": {
        "id": "k8cuNdr1J5SL"
      },
      "execution_count": 3,
      "outputs": []
    },
    {
      "cell_type": "code",
      "source": [
        "data=pd.read_excel(\"Base de Nitrogeno con bandas USA Sentinel 2A.xlsx\")\n",
        "data.isnull().sum(axis=0)"
      ],
      "metadata": {
        "colab": {
          "base_uri": "https://localhost:8080/"
        },
        "id": "2D5SWc5IJ6fr",
        "outputId": "c6f55cdf-8d8f-4153-eda6-c3035ba2e467"
      },
      "execution_count": 4,
      "outputs": [
        {
          "output_type": "execute_result",
          "data": {
            "text/plain": [
              "Unnamed: 0           0\n",
              "Lat                  0\n",
              "Lon                  0\n",
              "Fecha                0\n",
              "Nitrogeno Ammonia    0\n",
              "Fecha_ref            0\n",
              "Fecha_plus           0\n",
              "Fecha_less           0\n",
              "Actual_Date          0\n",
              "B1                   0\n",
              "B2                   0\n",
              "B3                   0\n",
              "B4                   0\n",
              "B5                   0\n",
              "B6                   0\n",
              "B7                   0\n",
              "B8                   0\n",
              "B8A                  0\n",
              "B9                   0\n",
              "B11                  0\n",
              "B12                  0\n",
              "dtype: int64"
            ]
          },
          "metadata": {},
          "execution_count": 4
        }
      ]
    },
    {
      "cell_type": "code",
      "source": [
        "dataAnalisis=data.drop(labels=['Unnamed: 0','Lat','Lon','Fecha','Fecha_ref','Fecha_plus','Fecha_less','Actual_Date'], axis=1)\n",
        "dataAnalisis.isnull().sum(axis=0)"
      ],
      "metadata": {
        "colab": {
          "base_uri": "https://localhost:8080/"
        },
        "id": "W6x55s3NKTNy",
        "outputId": "c245b7c4-d0ca-4012-ec16-5abf02fd9f27"
      },
      "execution_count": 5,
      "outputs": [
        {
          "output_type": "execute_result",
          "data": {
            "text/plain": [
              "Nitrogeno Ammonia    0\n",
              "B1                   0\n",
              "B2                   0\n",
              "B3                   0\n",
              "B4                   0\n",
              "B5                   0\n",
              "B6                   0\n",
              "B7                   0\n",
              "B8                   0\n",
              "B8A                  0\n",
              "B9                   0\n",
              "B11                  0\n",
              "B12                  0\n",
              "dtype: int64"
            ]
          },
          "metadata": {},
          "execution_count": 5
        }
      ]
    },
    {
      "cell_type": "code",
      "source": [
        "dataAnalisis=dataAnalisis.reset_index()\n",
        "dataAnalisis=dataAnalisis.drop('index',axis=1)\n",
        "for col in dataAnalisis:\n",
        "  if col!='Nitrogeno Ammonia':\n",
        "    max=dataAnalisis[col].max()\n",
        "    min=dataAnalisis[col].min()\n",
        "  #Asegurarse de que la feature tenga valores distintos, o sea una desviación mayor a 0.\n",
        "    if max!=min:\n",
        "      dataAnalisis[col]=dataAnalisis[col].apply(\n",
        "          lambda value: (value)/(20000)\n",
        "          )\n",
        "  #Si la feature tiene una desviación de 0 (todos sus valores son iguales), desecharla\n",
        "    else:\n",
        "      dataAnalisis.drop(col,axis=1)\n",
        "dataAnalisis"
      ],
      "metadata": {
        "colab": {
          "base_uri": "https://localhost:8080/",
          "height": 424
        },
        "id": "4HNpBCfmsj5F",
        "outputId": "89dd7441-0801-4ce9-ec95-759deee40229"
      },
      "execution_count": 6,
      "outputs": [
        {
          "output_type": "execute_result",
          "data": {
            "text/plain": [
              "     Nitrogeno Ammonia       B1       B2       B3       B4       B5       B6  \\\n",
              "0                 0.05  0.00925  0.01835  0.03750  0.03520  0.03480  0.01125   \n",
              "1                 0.05  0.01340  0.01410  0.02585  0.01080  0.01075  0.00335   \n",
              "2                 0.05  0.01930  0.02790  0.03730  0.02600  0.02325  0.00745   \n",
              "3                 0.05  0.02415  0.03330  0.04875  0.04040  0.04085  0.01590   \n",
              "4                 0.05  0.01690  0.02595  0.03695  0.02365  0.02005  0.00335   \n",
              "..                 ...      ...      ...      ...      ...      ...      ...   \n",
              "404               0.05  0.02265  0.02650  0.04070  0.03705  0.04130  0.02020   \n",
              "405               0.10  0.04880  0.06660  0.07860  0.07250  0.07060  0.05835   \n",
              "406               0.05  0.01510  0.01970  0.02990  0.01495  0.01100  0.00390   \n",
              "407               0.05  0.01550  0.02145  0.02780  0.01325  0.00995  0.00450   \n",
              "408               0.05  0.02690  0.03040  0.04370  0.02760  0.02325  0.00845   \n",
              "\n",
              "          B7       B8      B8A       B9      B11      B12  \n",
              "0    0.01060  0.00845  0.00380  0.00005  0.00005  0.00005  \n",
              "1    0.00310  0.00365  0.00220  0.00005  0.00120  0.00175  \n",
              "2    0.00780  0.00730  0.00440  0.00080  0.00140  0.00170  \n",
              "3    0.01430  0.01285  0.00730  0.00040  0.00065  0.00065  \n",
              "4    0.00435  0.00265  0.00115  0.00005  0.00125  0.00170  \n",
              "..       ...      ...      ...      ...      ...      ...  \n",
              "404  0.02110  0.01780  0.01805  0.01285  0.01410  0.01305  \n",
              "405  0.05560  0.05710  0.05285  0.06125  0.05820  0.05445  \n",
              "406  0.00410  0.00390  0.00270  0.00010  0.00165  0.00160  \n",
              "407  0.00460  0.00415  0.00265  0.00100  0.00165  0.00110  \n",
              "408  0.00950  0.00765  0.00570  0.00210  0.00335  0.00285  \n",
              "\n",
              "[409 rows x 13 columns]"
            ],
            "text/html": [
              "\n",
              "  <div id=\"df-87c0d46d-9dfa-4aa3-be9c-53eb99229ac4\">\n",
              "    <div class=\"colab-df-container\">\n",
              "      <div>\n",
              "<style scoped>\n",
              "    .dataframe tbody tr th:only-of-type {\n",
              "        vertical-align: middle;\n",
              "    }\n",
              "\n",
              "    .dataframe tbody tr th {\n",
              "        vertical-align: top;\n",
              "    }\n",
              "\n",
              "    .dataframe thead th {\n",
              "        text-align: right;\n",
              "    }\n",
              "</style>\n",
              "<table border=\"1\" class=\"dataframe\">\n",
              "  <thead>\n",
              "    <tr style=\"text-align: right;\">\n",
              "      <th></th>\n",
              "      <th>Nitrogeno Ammonia</th>\n",
              "      <th>B1</th>\n",
              "      <th>B2</th>\n",
              "      <th>B3</th>\n",
              "      <th>B4</th>\n",
              "      <th>B5</th>\n",
              "      <th>B6</th>\n",
              "      <th>B7</th>\n",
              "      <th>B8</th>\n",
              "      <th>B8A</th>\n",
              "      <th>B9</th>\n",
              "      <th>B11</th>\n",
              "      <th>B12</th>\n",
              "    </tr>\n",
              "  </thead>\n",
              "  <tbody>\n",
              "    <tr>\n",
              "      <th>0</th>\n",
              "      <td>0.05</td>\n",
              "      <td>0.00925</td>\n",
              "      <td>0.01835</td>\n",
              "      <td>0.03750</td>\n",
              "      <td>0.03520</td>\n",
              "      <td>0.03480</td>\n",
              "      <td>0.01125</td>\n",
              "      <td>0.01060</td>\n",
              "      <td>0.00845</td>\n",
              "      <td>0.00380</td>\n",
              "      <td>0.00005</td>\n",
              "      <td>0.00005</td>\n",
              "      <td>0.00005</td>\n",
              "    </tr>\n",
              "    <tr>\n",
              "      <th>1</th>\n",
              "      <td>0.05</td>\n",
              "      <td>0.01340</td>\n",
              "      <td>0.01410</td>\n",
              "      <td>0.02585</td>\n",
              "      <td>0.01080</td>\n",
              "      <td>0.01075</td>\n",
              "      <td>0.00335</td>\n",
              "      <td>0.00310</td>\n",
              "      <td>0.00365</td>\n",
              "      <td>0.00220</td>\n",
              "      <td>0.00005</td>\n",
              "      <td>0.00120</td>\n",
              "      <td>0.00175</td>\n",
              "    </tr>\n",
              "    <tr>\n",
              "      <th>2</th>\n",
              "      <td>0.05</td>\n",
              "      <td>0.01930</td>\n",
              "      <td>0.02790</td>\n",
              "      <td>0.03730</td>\n",
              "      <td>0.02600</td>\n",
              "      <td>0.02325</td>\n",
              "      <td>0.00745</td>\n",
              "      <td>0.00780</td>\n",
              "      <td>0.00730</td>\n",
              "      <td>0.00440</td>\n",
              "      <td>0.00080</td>\n",
              "      <td>0.00140</td>\n",
              "      <td>0.00170</td>\n",
              "    </tr>\n",
              "    <tr>\n",
              "      <th>3</th>\n",
              "      <td>0.05</td>\n",
              "      <td>0.02415</td>\n",
              "      <td>0.03330</td>\n",
              "      <td>0.04875</td>\n",
              "      <td>0.04040</td>\n",
              "      <td>0.04085</td>\n",
              "      <td>0.01590</td>\n",
              "      <td>0.01430</td>\n",
              "      <td>0.01285</td>\n",
              "      <td>0.00730</td>\n",
              "      <td>0.00040</td>\n",
              "      <td>0.00065</td>\n",
              "      <td>0.00065</td>\n",
              "    </tr>\n",
              "    <tr>\n",
              "      <th>4</th>\n",
              "      <td>0.05</td>\n",
              "      <td>0.01690</td>\n",
              "      <td>0.02595</td>\n",
              "      <td>0.03695</td>\n",
              "      <td>0.02365</td>\n",
              "      <td>0.02005</td>\n",
              "      <td>0.00335</td>\n",
              "      <td>0.00435</td>\n",
              "      <td>0.00265</td>\n",
              "      <td>0.00115</td>\n",
              "      <td>0.00005</td>\n",
              "      <td>0.00125</td>\n",
              "      <td>0.00170</td>\n",
              "    </tr>\n",
              "    <tr>\n",
              "      <th>...</th>\n",
              "      <td>...</td>\n",
              "      <td>...</td>\n",
              "      <td>...</td>\n",
              "      <td>...</td>\n",
              "      <td>...</td>\n",
              "      <td>...</td>\n",
              "      <td>...</td>\n",
              "      <td>...</td>\n",
              "      <td>...</td>\n",
              "      <td>...</td>\n",
              "      <td>...</td>\n",
              "      <td>...</td>\n",
              "      <td>...</td>\n",
              "    </tr>\n",
              "    <tr>\n",
              "      <th>404</th>\n",
              "      <td>0.05</td>\n",
              "      <td>0.02265</td>\n",
              "      <td>0.02650</td>\n",
              "      <td>0.04070</td>\n",
              "      <td>0.03705</td>\n",
              "      <td>0.04130</td>\n",
              "      <td>0.02020</td>\n",
              "      <td>0.02110</td>\n",
              "      <td>0.01780</td>\n",
              "      <td>0.01805</td>\n",
              "      <td>0.01285</td>\n",
              "      <td>0.01410</td>\n",
              "      <td>0.01305</td>\n",
              "    </tr>\n",
              "    <tr>\n",
              "      <th>405</th>\n",
              "      <td>0.10</td>\n",
              "      <td>0.04880</td>\n",
              "      <td>0.06660</td>\n",
              "      <td>0.07860</td>\n",
              "      <td>0.07250</td>\n",
              "      <td>0.07060</td>\n",
              "      <td>0.05835</td>\n",
              "      <td>0.05560</td>\n",
              "      <td>0.05710</td>\n",
              "      <td>0.05285</td>\n",
              "      <td>0.06125</td>\n",
              "      <td>0.05820</td>\n",
              "      <td>0.05445</td>\n",
              "    </tr>\n",
              "    <tr>\n",
              "      <th>406</th>\n",
              "      <td>0.05</td>\n",
              "      <td>0.01510</td>\n",
              "      <td>0.01970</td>\n",
              "      <td>0.02990</td>\n",
              "      <td>0.01495</td>\n",
              "      <td>0.01100</td>\n",
              "      <td>0.00390</td>\n",
              "      <td>0.00410</td>\n",
              "      <td>0.00390</td>\n",
              "      <td>0.00270</td>\n",
              "      <td>0.00010</td>\n",
              "      <td>0.00165</td>\n",
              "      <td>0.00160</td>\n",
              "    </tr>\n",
              "    <tr>\n",
              "      <th>407</th>\n",
              "      <td>0.05</td>\n",
              "      <td>0.01550</td>\n",
              "      <td>0.02145</td>\n",
              "      <td>0.02780</td>\n",
              "      <td>0.01325</td>\n",
              "      <td>0.00995</td>\n",
              "      <td>0.00450</td>\n",
              "      <td>0.00460</td>\n",
              "      <td>0.00415</td>\n",
              "      <td>0.00265</td>\n",
              "      <td>0.00100</td>\n",
              "      <td>0.00165</td>\n",
              "      <td>0.00110</td>\n",
              "    </tr>\n",
              "    <tr>\n",
              "      <th>408</th>\n",
              "      <td>0.05</td>\n",
              "      <td>0.02690</td>\n",
              "      <td>0.03040</td>\n",
              "      <td>0.04370</td>\n",
              "      <td>0.02760</td>\n",
              "      <td>0.02325</td>\n",
              "      <td>0.00845</td>\n",
              "      <td>0.00950</td>\n",
              "      <td>0.00765</td>\n",
              "      <td>0.00570</td>\n",
              "      <td>0.00210</td>\n",
              "      <td>0.00335</td>\n",
              "      <td>0.00285</td>\n",
              "    </tr>\n",
              "  </tbody>\n",
              "</table>\n",
              "<p>409 rows × 13 columns</p>\n",
              "</div>\n",
              "      <button class=\"colab-df-convert\" onclick=\"convertToInteractive('df-87c0d46d-9dfa-4aa3-be9c-53eb99229ac4')\"\n",
              "              title=\"Convert this dataframe to an interactive table.\"\n",
              "              style=\"display:none;\">\n",
              "        \n",
              "  <svg xmlns=\"http://www.w3.org/2000/svg\" height=\"24px\"viewBox=\"0 0 24 24\"\n",
              "       width=\"24px\">\n",
              "    <path d=\"M0 0h24v24H0V0z\" fill=\"none\"/>\n",
              "    <path d=\"M18.56 5.44l.94 2.06.94-2.06 2.06-.94-2.06-.94-.94-2.06-.94 2.06-2.06.94zm-11 1L8.5 8.5l.94-2.06 2.06-.94-2.06-.94L8.5 2.5l-.94 2.06-2.06.94zm10 10l.94 2.06.94-2.06 2.06-.94-2.06-.94-.94-2.06-.94 2.06-2.06.94z\"/><path d=\"M17.41 7.96l-1.37-1.37c-.4-.4-.92-.59-1.43-.59-.52 0-1.04.2-1.43.59L10.3 9.45l-7.72 7.72c-.78.78-.78 2.05 0 2.83L4 21.41c.39.39.9.59 1.41.59.51 0 1.02-.2 1.41-.59l7.78-7.78 2.81-2.81c.8-.78.8-2.07 0-2.86zM5.41 20L4 18.59l7.72-7.72 1.47 1.35L5.41 20z\"/>\n",
              "  </svg>\n",
              "      </button>\n",
              "      \n",
              "  <style>\n",
              "    .colab-df-container {\n",
              "      display:flex;\n",
              "      flex-wrap:wrap;\n",
              "      gap: 12px;\n",
              "    }\n",
              "\n",
              "    .colab-df-convert {\n",
              "      background-color: #E8F0FE;\n",
              "      border: none;\n",
              "      border-radius: 50%;\n",
              "      cursor: pointer;\n",
              "      display: none;\n",
              "      fill: #1967D2;\n",
              "      height: 32px;\n",
              "      padding: 0 0 0 0;\n",
              "      width: 32px;\n",
              "    }\n",
              "\n",
              "    .colab-df-convert:hover {\n",
              "      background-color: #E2EBFA;\n",
              "      box-shadow: 0px 1px 2px rgba(60, 64, 67, 0.3), 0px 1px 3px 1px rgba(60, 64, 67, 0.15);\n",
              "      fill: #174EA6;\n",
              "    }\n",
              "\n",
              "    [theme=dark] .colab-df-convert {\n",
              "      background-color: #3B4455;\n",
              "      fill: #D2E3FC;\n",
              "    }\n",
              "\n",
              "    [theme=dark] .colab-df-convert:hover {\n",
              "      background-color: #434B5C;\n",
              "      box-shadow: 0px 1px 3px 1px rgba(0, 0, 0, 0.15);\n",
              "      filter: drop-shadow(0px 1px 2px rgba(0, 0, 0, 0.3));\n",
              "      fill: #FFFFFF;\n",
              "    }\n",
              "  </style>\n",
              "\n",
              "      <script>\n",
              "        const buttonEl =\n",
              "          document.querySelector('#df-87c0d46d-9dfa-4aa3-be9c-53eb99229ac4 button.colab-df-convert');\n",
              "        buttonEl.style.display =\n",
              "          google.colab.kernel.accessAllowed ? 'block' : 'none';\n",
              "\n",
              "        async function convertToInteractive(key) {\n",
              "          const element = document.querySelector('#df-87c0d46d-9dfa-4aa3-be9c-53eb99229ac4');\n",
              "          const dataTable =\n",
              "            await google.colab.kernel.invokeFunction('convertToInteractive',\n",
              "                                                     [key], {});\n",
              "          if (!dataTable) return;\n",
              "\n",
              "          const docLinkHtml = 'Like what you see? Visit the ' +\n",
              "            '<a target=\"_blank\" href=https://colab.research.google.com/notebooks/data_table.ipynb>data table notebook</a>'\n",
              "            + ' to learn more about interactive tables.';\n",
              "          element.innerHTML = '';\n",
              "          dataTable['output_type'] = 'display_data';\n",
              "          await google.colab.output.renderOutput(dataTable, element);\n",
              "          const docLink = document.createElement('div');\n",
              "          docLink.innerHTML = docLinkHtml;\n",
              "          element.appendChild(docLink);\n",
              "        }\n",
              "      </script>\n",
              "    </div>\n",
              "  </div>\n",
              "  "
            ]
          },
          "metadata": {},
          "execution_count": 6
        }
      ]
    },
    {
      "cell_type": "markdown",
      "source": [
        "#EDA"
      ],
      "metadata": {
        "id": "1BXgdgytmOKH"
      }
    },
    {
      "cell_type": "markdown",
      "metadata": {
        "id": "ZT-Vp4hu1AFc"
      },
      "source": [
        "##Histograma"
      ]
    },
    {
      "cell_type": "code",
      "execution_count": 9,
      "metadata": {
        "colab": {
          "base_uri": "https://localhost:8080/",
          "height": 542
        },
        "id": "sQCK0ypWwEs_",
        "outputId": "e5d74c48-adb8-42ee-c649-e6435d742cea"
      },
      "outputs": [
        {
          "output_type": "display_data",
          "data": {
            "text/html": [
              "<html>\n",
              "<head><meta charset=\"utf-8\" /></head>\n",
              "<body>\n",
              "    <div>            <script src=\"https://cdnjs.cloudflare.com/ajax/libs/mathjax/2.7.5/MathJax.js?config=TeX-AMS-MML_SVG\"></script><script type=\"text/javascript\">if (window.MathJax) {MathJax.Hub.Config({SVG: {font: \"STIX-Web\"}});}</script>                <script type=\"text/javascript\">window.PlotlyConfig = {MathJaxConfig: 'local'};</script>\n",
              "        <script src=\"https://cdn.plot.ly/plotly-2.8.3.min.js\"></script>                <div id=\"ca9a7885-93ae-43c0-8698-ce16ab7b55ac\" class=\"plotly-graph-div\" style=\"height:525px; width:100%;\"></div>            <script type=\"text/javascript\">                                    window.PLOTLYENV=window.PLOTLYENV || {};                                    if (document.getElementById(\"ca9a7885-93ae-43c0-8698-ce16ab7b55ac\")) {                    Plotly.newPlot(                        \"ca9a7885-93ae-43c0-8698-ce16ab7b55ac\",                        [{\"alignmentgroup\":\"True\",\"bingroup\":\"x\",\"hovertemplate\":\"Nitrogeno Ammonia=%{x}<br>count=%{y}<extra></extra>\",\"legendgroup\":\"\",\"marker\":{\"color\":\"#636efa\",\"pattern\":{\"shape\":\"\"}},\"name\":\"\",\"offsetgroup\":\"\",\"orientation\":\"v\",\"showlegend\":false,\"x\":[0.05,0.05,0.05,0.05,0.05,0.05,0.05,0.05,0.05,0.05,0.05,0.05,0.05,0.05,0.05,0.05,0.05,0.05,0.05,0.05,0.05,0.05,0.05,0.05,0.05,0.05,0.05,0.05,0.05,0.05,0.05,0.05,0.05,0.05,0.05,0.05,0.05,0.05,0.05,0.05,0.05,0.05,0.05,0.05,0.05,0.05,0.05,0.05,0.05,0.05,0.05,0.05,0.05,0.05,0.05,0.05,0.05,0.05,0.05,0.05,0.05,0.05,0.05,0.05,0.05,0.05,0.05,0.05,0.05,0.05,0.05,0.05,0.05,0.05,0.05,0.05,0.05,0.05,0.05,0.05,0.05,0.05,0.05,0.05,0.05,0.05,0.05,0.05,0.05,0.05,0.05,0.05,0.05,0.05,0.05,0.05,0.05,0.05,0.05,0.05,0.05,0.05,0.05,0.05,0.05,0.05,0.05,0.05,0.05,0.05,0.05,0.05,0.05,0.05,0.05,0.05,0.05,0.05,0.05,0.05,0.05,0.05,0.05,0.05,0.05,0.05,0.05,0.05,0.05,0.05,0.05,0.05,0.05,0.05,0.05,0.05,0.05,0.05,0.05,0.05,0.05,0.05,0.05,0.05,0.05,0.05,0.05,0.05,0.05,0.05,0.05,0.05,0.05,0.05,0.05,0.05,0.05,0.05,0.05,0.05,0.05,0.05,0.05,0.05,0.05,0.05,0.05,0.05,0.05,0.05,0.05,0.05,0.05,0.05,0.05,0.05,0.05,0.05,0.05,0.05,0.05,0.05,0.05,0.05,0.05,0.05,0.05,0.05,0.05,0.05,0.05,0.05,0.05,0.05,0.05,0.05,0.05,0.05,0.05,0.05,0.05,0.05,0.05,0.05,0.05,0.05,0.05,0.05,0.05,0.05,0.05,0.05,0.05,0.05,0.05,0.05,0.05,0.05,0.05,0.05,0.05,0.05,0.05,0.05,0.05,0.05,0.05,0.05,0.05,0.05,0.05,0.05,0.05,0.05,0.05,0.05,0.05,0.05,0.05,0.05,0.05,0.05,0.05,0.05,0.05,0.05,0.05,0.05,0.05,0.05,0.05,0.05,0.05,0.05,0.05,0.05,0.05,0.05,0.05,0.05,0.05,0.05,0.05,0.05,0.05,0.05,0.05,0.05,0.05,0.05,0.05,0.05,0.05,0.05,0.06,0.05,0.05,0.05,0.06,0.05,0.05,0.05,0.05,0.05,0.05,0.05,0.05,0.06,0.05,0.05,0.05,0.05,0.05,0.05,0.05,0.05,0.05,0.05,0.06,0.05,0.05,0.05,0.05,0.05,0.05,0.06,0.05,0.05,0.05,0.06,0.05,0.05,0.05,0.05,0.05,0.05,0.05,0.06,0.05,0.05,0.05,0.05,0.05,0.05,0.05,0.06,0.05,0.05,0.05,0.05,0.05,0.05,0.05,0.06,0.05,0.05,0.05,0.06,0.05,0.05,0.05,0.05,0.05,0.05,0.05,0.05,0.05,0.05,0.05,0.05,0.05,0.05,0.06,0.05,0.05,0.05,0.06,0.05,0.05,0.05,0.1,0.05,0.05,0.05,0.05,0.05,0.05,0.05,0.05,0.05,0.1,0.1,0.1,0.1,0.05,0.1,0.1,0.05,0.05,0.05,0.05,0.05,0.05,0.1,0.05,0.05,0.05,0.05,0.1,0.05,0.05,0.1,0.05,0.05,0.1,0.1,0.05,0.1,0.05,0.05,0.05,0.05,0.05,0.05,0.05,0.1,0.05,0.05,0.05],\"xaxis\":\"x\",\"yaxis\":\"y\",\"type\":\"histogram\"}],                        {\"template\":{\"data\":{\"bar\":[{\"error_x\":{\"color\":\"#2a3f5f\"},\"error_y\":{\"color\":\"#2a3f5f\"},\"marker\":{\"line\":{\"color\":\"#E5ECF6\",\"width\":0.5},\"pattern\":{\"fillmode\":\"overlay\",\"size\":10,\"solidity\":0.2}},\"type\":\"bar\"}],\"barpolar\":[{\"marker\":{\"line\":{\"color\":\"#E5ECF6\",\"width\":0.5},\"pattern\":{\"fillmode\":\"overlay\",\"size\":10,\"solidity\":0.2}},\"type\":\"barpolar\"}],\"carpet\":[{\"aaxis\":{\"endlinecolor\":\"#2a3f5f\",\"gridcolor\":\"white\",\"linecolor\":\"white\",\"minorgridcolor\":\"white\",\"startlinecolor\":\"#2a3f5f\"},\"baxis\":{\"endlinecolor\":\"#2a3f5f\",\"gridcolor\":\"white\",\"linecolor\":\"white\",\"minorgridcolor\":\"white\",\"startlinecolor\":\"#2a3f5f\"},\"type\":\"carpet\"}],\"choropleth\":[{\"colorbar\":{\"outlinewidth\":0,\"ticks\":\"\"},\"type\":\"choropleth\"}],\"contour\":[{\"colorbar\":{\"outlinewidth\":0,\"ticks\":\"\"},\"colorscale\":[[0.0,\"#0d0887\"],[0.1111111111111111,\"#46039f\"],[0.2222222222222222,\"#7201a8\"],[0.3333333333333333,\"#9c179e\"],[0.4444444444444444,\"#bd3786\"],[0.5555555555555556,\"#d8576b\"],[0.6666666666666666,\"#ed7953\"],[0.7777777777777778,\"#fb9f3a\"],[0.8888888888888888,\"#fdca26\"],[1.0,\"#f0f921\"]],\"type\":\"contour\"}],\"contourcarpet\":[{\"colorbar\":{\"outlinewidth\":0,\"ticks\":\"\"},\"type\":\"contourcarpet\"}],\"heatmap\":[{\"colorbar\":{\"outlinewidth\":0,\"ticks\":\"\"},\"colorscale\":[[0.0,\"#0d0887\"],[0.1111111111111111,\"#46039f\"],[0.2222222222222222,\"#7201a8\"],[0.3333333333333333,\"#9c179e\"],[0.4444444444444444,\"#bd3786\"],[0.5555555555555556,\"#d8576b\"],[0.6666666666666666,\"#ed7953\"],[0.7777777777777778,\"#fb9f3a\"],[0.8888888888888888,\"#fdca26\"],[1.0,\"#f0f921\"]],\"type\":\"heatmap\"}],\"heatmapgl\":[{\"colorbar\":{\"outlinewidth\":0,\"ticks\":\"\"},\"colorscale\":[[0.0,\"#0d0887\"],[0.1111111111111111,\"#46039f\"],[0.2222222222222222,\"#7201a8\"],[0.3333333333333333,\"#9c179e\"],[0.4444444444444444,\"#bd3786\"],[0.5555555555555556,\"#d8576b\"],[0.6666666666666666,\"#ed7953\"],[0.7777777777777778,\"#fb9f3a\"],[0.8888888888888888,\"#fdca26\"],[1.0,\"#f0f921\"]],\"type\":\"heatmapgl\"}],\"histogram\":[{\"marker\":{\"pattern\":{\"fillmode\":\"overlay\",\"size\":10,\"solidity\":0.2}},\"type\":\"histogram\"}],\"histogram2d\":[{\"colorbar\":{\"outlinewidth\":0,\"ticks\":\"\"},\"colorscale\":[[0.0,\"#0d0887\"],[0.1111111111111111,\"#46039f\"],[0.2222222222222222,\"#7201a8\"],[0.3333333333333333,\"#9c179e\"],[0.4444444444444444,\"#bd3786\"],[0.5555555555555556,\"#d8576b\"],[0.6666666666666666,\"#ed7953\"],[0.7777777777777778,\"#fb9f3a\"],[0.8888888888888888,\"#fdca26\"],[1.0,\"#f0f921\"]],\"type\":\"histogram2d\"}],\"histogram2dcontour\":[{\"colorbar\":{\"outlinewidth\":0,\"ticks\":\"\"},\"colorscale\":[[0.0,\"#0d0887\"],[0.1111111111111111,\"#46039f\"],[0.2222222222222222,\"#7201a8\"],[0.3333333333333333,\"#9c179e\"],[0.4444444444444444,\"#bd3786\"],[0.5555555555555556,\"#d8576b\"],[0.6666666666666666,\"#ed7953\"],[0.7777777777777778,\"#fb9f3a\"],[0.8888888888888888,\"#fdca26\"],[1.0,\"#f0f921\"]],\"type\":\"histogram2dcontour\"}],\"mesh3d\":[{\"colorbar\":{\"outlinewidth\":0,\"ticks\":\"\"},\"type\":\"mesh3d\"}],\"parcoords\":[{\"line\":{\"colorbar\":{\"outlinewidth\":0,\"ticks\":\"\"}},\"type\":\"parcoords\"}],\"pie\":[{\"automargin\":true,\"type\":\"pie\"}],\"scatter\":[{\"marker\":{\"colorbar\":{\"outlinewidth\":0,\"ticks\":\"\"}},\"type\":\"scatter\"}],\"scatter3d\":[{\"line\":{\"colorbar\":{\"outlinewidth\":0,\"ticks\":\"\"}},\"marker\":{\"colorbar\":{\"outlinewidth\":0,\"ticks\":\"\"}},\"type\":\"scatter3d\"}],\"scattercarpet\":[{\"marker\":{\"colorbar\":{\"outlinewidth\":0,\"ticks\":\"\"}},\"type\":\"scattercarpet\"}],\"scattergeo\":[{\"marker\":{\"colorbar\":{\"outlinewidth\":0,\"ticks\":\"\"}},\"type\":\"scattergeo\"}],\"scattergl\":[{\"marker\":{\"colorbar\":{\"outlinewidth\":0,\"ticks\":\"\"}},\"type\":\"scattergl\"}],\"scattermapbox\":[{\"marker\":{\"colorbar\":{\"outlinewidth\":0,\"ticks\":\"\"}},\"type\":\"scattermapbox\"}],\"scatterpolar\":[{\"marker\":{\"colorbar\":{\"outlinewidth\":0,\"ticks\":\"\"}},\"type\":\"scatterpolar\"}],\"scatterpolargl\":[{\"marker\":{\"colorbar\":{\"outlinewidth\":0,\"ticks\":\"\"}},\"type\":\"scatterpolargl\"}],\"scatterternary\":[{\"marker\":{\"colorbar\":{\"outlinewidth\":0,\"ticks\":\"\"}},\"type\":\"scatterternary\"}],\"surface\":[{\"colorbar\":{\"outlinewidth\":0,\"ticks\":\"\"},\"colorscale\":[[0.0,\"#0d0887\"],[0.1111111111111111,\"#46039f\"],[0.2222222222222222,\"#7201a8\"],[0.3333333333333333,\"#9c179e\"],[0.4444444444444444,\"#bd3786\"],[0.5555555555555556,\"#d8576b\"],[0.6666666666666666,\"#ed7953\"],[0.7777777777777778,\"#fb9f3a\"],[0.8888888888888888,\"#fdca26\"],[1.0,\"#f0f921\"]],\"type\":\"surface\"}],\"table\":[{\"cells\":{\"fill\":{\"color\":\"#EBF0F8\"},\"line\":{\"color\":\"white\"}},\"header\":{\"fill\":{\"color\":\"#C8D4E3\"},\"line\":{\"color\":\"white\"}},\"type\":\"table\"}]},\"layout\":{\"annotationdefaults\":{\"arrowcolor\":\"#2a3f5f\",\"arrowhead\":0,\"arrowwidth\":1},\"autotypenumbers\":\"strict\",\"coloraxis\":{\"colorbar\":{\"outlinewidth\":0,\"ticks\":\"\"}},\"colorscale\":{\"diverging\":[[0,\"#8e0152\"],[0.1,\"#c51b7d\"],[0.2,\"#de77ae\"],[0.3,\"#f1b6da\"],[0.4,\"#fde0ef\"],[0.5,\"#f7f7f7\"],[0.6,\"#e6f5d0\"],[0.7,\"#b8e186\"],[0.8,\"#7fbc41\"],[0.9,\"#4d9221\"],[1,\"#276419\"]],\"sequential\":[[0.0,\"#0d0887\"],[0.1111111111111111,\"#46039f\"],[0.2222222222222222,\"#7201a8\"],[0.3333333333333333,\"#9c179e\"],[0.4444444444444444,\"#bd3786\"],[0.5555555555555556,\"#d8576b\"],[0.6666666666666666,\"#ed7953\"],[0.7777777777777778,\"#fb9f3a\"],[0.8888888888888888,\"#fdca26\"],[1.0,\"#f0f921\"]],\"sequentialminus\":[[0.0,\"#0d0887\"],[0.1111111111111111,\"#46039f\"],[0.2222222222222222,\"#7201a8\"],[0.3333333333333333,\"#9c179e\"],[0.4444444444444444,\"#bd3786\"],[0.5555555555555556,\"#d8576b\"],[0.6666666666666666,\"#ed7953\"],[0.7777777777777778,\"#fb9f3a\"],[0.8888888888888888,\"#fdca26\"],[1.0,\"#f0f921\"]]},\"colorway\":[\"#636efa\",\"#EF553B\",\"#00cc96\",\"#ab63fa\",\"#FFA15A\",\"#19d3f3\",\"#FF6692\",\"#B6E880\",\"#FF97FF\",\"#FECB52\"],\"font\":{\"color\":\"#2a3f5f\"},\"geo\":{\"bgcolor\":\"white\",\"lakecolor\":\"white\",\"landcolor\":\"#E5ECF6\",\"showlakes\":true,\"showland\":true,\"subunitcolor\":\"white\"},\"hoverlabel\":{\"align\":\"left\"},\"hovermode\":\"closest\",\"mapbox\":{\"style\":\"light\"},\"paper_bgcolor\":\"white\",\"plot_bgcolor\":\"#E5ECF6\",\"polar\":{\"angularaxis\":{\"gridcolor\":\"white\",\"linecolor\":\"white\",\"ticks\":\"\"},\"bgcolor\":\"#E5ECF6\",\"radialaxis\":{\"gridcolor\":\"white\",\"linecolor\":\"white\",\"ticks\":\"\"}},\"scene\":{\"xaxis\":{\"backgroundcolor\":\"#E5ECF6\",\"gridcolor\":\"white\",\"gridwidth\":2,\"linecolor\":\"white\",\"showbackground\":true,\"ticks\":\"\",\"zerolinecolor\":\"white\"},\"yaxis\":{\"backgroundcolor\":\"#E5ECF6\",\"gridcolor\":\"white\",\"gridwidth\":2,\"linecolor\":\"white\",\"showbackground\":true,\"ticks\":\"\",\"zerolinecolor\":\"white\"},\"zaxis\":{\"backgroundcolor\":\"#E5ECF6\",\"gridcolor\":\"white\",\"gridwidth\":2,\"linecolor\":\"white\",\"showbackground\":true,\"ticks\":\"\",\"zerolinecolor\":\"white\"}},\"shapedefaults\":{\"line\":{\"color\":\"#2a3f5f\"}},\"ternary\":{\"aaxis\":{\"gridcolor\":\"white\",\"linecolor\":\"white\",\"ticks\":\"\"},\"baxis\":{\"gridcolor\":\"white\",\"linecolor\":\"white\",\"ticks\":\"\"},\"bgcolor\":\"#E5ECF6\",\"caxis\":{\"gridcolor\":\"white\",\"linecolor\":\"white\",\"ticks\":\"\"}},\"title\":{\"x\":0.05},\"xaxis\":{\"automargin\":true,\"gridcolor\":\"white\",\"linecolor\":\"white\",\"ticks\":\"\",\"title\":{\"standoff\":15},\"zerolinecolor\":\"white\",\"zerolinewidth\":2},\"yaxis\":{\"automargin\":true,\"gridcolor\":\"white\",\"linecolor\":\"white\",\"ticks\":\"\",\"title\":{\"standoff\":15},\"zerolinecolor\":\"white\",\"zerolinewidth\":2}}},\"xaxis\":{\"anchor\":\"y\",\"domain\":[0.0,1.0],\"title\":{\"text\":\"Nitrogeno Ammonia\"}},\"yaxis\":{\"anchor\":\"x\",\"domain\":[0.0,1.0],\"title\":{\"text\":\"count\"}},\"legend\":{\"tracegroupgap\":0},\"margin\":{\"t\":60},\"barmode\":\"relative\"},                        {\"responsive\": true}                    ).then(function(){\n",
              "                            \n",
              "var gd = document.getElementById('ca9a7885-93ae-43c0-8698-ce16ab7b55ac');\n",
              "var x = new MutationObserver(function (mutations, observer) {{\n",
              "        var display = window.getComputedStyle(gd).display;\n",
              "        if (!display || display === 'none') {{\n",
              "            console.log([gd, 'removed!']);\n",
              "            Plotly.purge(gd);\n",
              "            observer.disconnect();\n",
              "        }}\n",
              "}});\n",
              "\n",
              "// Listen for the removal of the full notebook cells\n",
              "var notebookContainer = gd.closest('#notebook-container');\n",
              "if (notebookContainer) {{\n",
              "    x.observe(notebookContainer, {childList: true});\n",
              "}}\n",
              "\n",
              "// Listen for the clearing of the current output cell\n",
              "var outputEl = gd.closest('.output');\n",
              "if (outputEl) {{\n",
              "    x.observe(outputEl, {childList: true});\n",
              "}}\n",
              "\n",
              "                        })                };                            </script>        </div>\n",
              "</body>\n",
              "</html>"
            ]
          },
          "metadata": {}
        }
      ],
      "source": [
        "fig = px.histogram(dataAnalisis, x=\"Nitrogeno Ammonia\")\n",
        "fig.show()"
      ]
    },
    {
      "cell_type": "markdown",
      "metadata": {
        "id": "bu9MOUZp1DUG"
      },
      "source": [
        "## Correlaciones"
      ]
    },
    {
      "cell_type": "code",
      "execution_count": 10,
      "metadata": {
        "colab": {
          "base_uri": "https://localhost:8080/",
          "height": 253
        },
        "id": "7QCck50Zw9IJ",
        "outputId": "17e8213d-bbe3-49b9-9abf-2d6afbb84296"
      },
      "outputs": [
        {
          "output_type": "execute_result",
          "data": {
            "text/plain": [
              "<seaborn.axisgrid.PairGrid at 0x7f16ff3a5390>"
            ]
          },
          "metadata": {},
          "execution_count": 10
        },
        {
          "output_type": "display_data",
          "data": {
            "text/plain": [
              "<Figure size 2160x180 with 12 Axes>"
            ],
            "image/png": "[encoded data removed]"
          },
          "metadata": {
            "needs_background": "light"
          }
        },
        {
          "output_type": "display_data",
          "data": {
            "text/plain": [
              "<Figure size 2160x180 with 12 Axes>"
            ],
            "image/png": "[encoded data removed]"
          },
          "metadata": {
            "needs_background": "light"
          }
        }
      ],
      "source": [
        "import seaborn as sns\n",
        "sns.pairplot(remove_out(dataAnalisis, 'Nitrogeno Ammonia'),x_vars=[\"B1\", \"B2\", \"B3\", \"B4\", \"B5\", \"B6\", \"B7\", \"B8\", \"B8A\", \"B9\", \"B11\", \"B12\"],\n",
        "    y_vars=[\"Nitrogeno Ammonia\"])\n",
        "sns.pairplot(dataAnalisis,x_vars=[\"B1\", \"B2\", \"B3\", \"B4\", \"B5\", \"B6\", \"B7\", \"B8\", \"B8A\", \"B9\", \"B11\", \"B12\"],\n",
        "    y_vars=[\"Nitrogeno Ammonia\"])"
      ]
    },
    {
      "cell_type": "markdown",
      "metadata": {
        "id": "HT_MXCmiAWGC"
      },
      "source": [
        "## Líneas"
      ]
    },
    {
      "cell_type": "code",
      "execution_count": 11,
      "metadata": {
        "id": "zfhypn36BObM"
      },
      "outputs": [],
      "source": [
        "plt.rcParams[\"figure.figsize\"] = [7.50, 3.50]\n",
        "plt.rcParams[\"figure.autolayout\"] = True\n",
        "overlapping = 0.150"
      ]
    },
    {
      "cell_type": "code",
      "execution_count": 12,
      "metadata": {
        "id": "wYUBhNSRCBp3"
      },
      "outputs": [],
      "source": [
        "qNitrogeno=getQuartiles(dataAnalisis, 'Nitrogeno Ammonia')"
      ]
    },
    {
      "cell_type": "code",
      "execution_count": 13,
      "metadata": {
        "id": "4s4LUu-tCji-"
      },
      "outputs": [],
      "source": [
        "dataAnalisis1=dataAnalisis.loc[(dataAnalisis['Nitrogeno Ammonia']>=qNitrogeno[0]) & (dataAnalisis['Nitrogeno Ammonia']<=qNitrogeno[1])]\n",
        "dataAnalisis2=dataAnalisis.loc[(dataAnalisis['Nitrogeno Ammonia']>=qNitrogeno[1]) & (dataAnalisis['Nitrogeno Ammonia']<=qNitrogeno[2])]\n",
        "dataAnalisis3=dataAnalisis.loc[(dataAnalisis['Nitrogeno Ammonia']>=qNitrogeno[2]) & (dataAnalisis['Nitrogeno Ammonia']<=qNitrogeno[3])]\n",
        "dataAnalisis4=dataAnalisis.loc[(dataAnalisis['Nitrogeno Ammonia']>=qNitrogeno[3]) & (dataAnalisis['Nitrogeno Ammonia']<=qNitrogeno[4])]"
      ]
    },
    {
      "cell_type": "code",
      "execution_count": 14,
      "metadata": {
        "colab": {
          "base_uri": "https://localhost:8080/",
          "height": 261
        },
        "id": "fkSD31ZXC-WS",
        "outputId": "eaa61911-c794-40ed-8f46-99c8d273ec66"
      },
      "outputs": [
        {
          "output_type": "display_data",
          "data": {
            "text/plain": [
              "<Figure size 540x252 with 1 Axes>"
            ],
            "image/png": "[encoded data removed]"
          },
          "metadata": {
            "needs_background": "light"
          }
        }
      ],
      "source": [
        "for index, row in dataAnalisis1.drop('Nitrogeno Ammonia',axis=1).iterrows():\n",
        "  line=plt.plot(row, alpha=overlapping,lw=5)\n",
        "plt.axhline(y=0.4, color='r', linestyle='--')\n",
        "plt.axhline(y=0.3, color='r', linestyle='--')\n",
        "plt.show()"
      ]
    },
    {
      "cell_type": "code",
      "execution_count": 15,
      "metadata": {
        "colab": {
          "base_uri": "https://localhost:8080/",
          "height": 261
        },
        "id": "wKhwMcKiDAOa",
        "outputId": "8f267ac4-a190-4dc2-833e-54ae70a60cf0"
      },
      "outputs": [
        {
          "output_type": "display_data",
          "data": {
            "text/plain": [
              "<Figure size 540x252 with 1 Axes>"
            ],
            "image/png": "[encoded data removed]"
          },
          "metadata": {
            "needs_background": "light"
          }
        }
      ],
      "source": [
        "for index, row in dataAnalisis2.drop('Nitrogeno Ammonia',axis=1).iterrows():\n",
        "  line=plt.plot(row, alpha=overlapping,lw=5)\n",
        "plt.axhline(y=0.4, color='r', linestyle='--')\n",
        "plt.axhline(y=0.3, color='r', linestyle='--')\n",
        "plt.show()"
      ]
    },
    {
      "cell_type": "code",
      "execution_count": 16,
      "metadata": {
        "colab": {
          "base_uri": "https://localhost:8080/",
          "height": 261
        },
        "id": "O0gNN0CjDAeb",
        "outputId": "d77ef8ee-4bf2-4541-b772-22adae6eed54"
      },
      "outputs": [
        {
          "output_type": "display_data",
          "data": {
            "text/plain": [
              "<Figure size 540x252 with 1 Axes>"
            ],
            "image/png": "[encoded data removed]"
          },
          "metadata": {
            "needs_background": "light"
          }
        }
      ],
      "source": [
        "for index, row in dataAnalisis3.drop('Nitrogeno Ammonia',axis=1).iterrows():\n",
        "  line=plt.plot(row, alpha=overlapping,lw=5)\n",
        "plt.axhline(y=0.4, color='r', linestyle='--')\n",
        "plt.axhline(y=0.3, color='r', linestyle='--')\n",
        "plt.show()"
      ]
    },
    {
      "cell_type": "code",
      "execution_count": 17,
      "metadata": {
        "colab": {
          "base_uri": "https://localhost:8080/",
          "height": 261
        },
        "id": "Ei6uwc9yDAsa",
        "outputId": "a65dc30f-5801-4def-8b32-2a19441e5175"
      },
      "outputs": [
        {
          "output_type": "display_data",
          "data": {
            "text/plain": [
              "<Figure size 540x252 with 1 Axes>"
            ],
            "image/png": "[encoded data removed]"
          },
          "metadata": {
            "needs_background": "light"
          }
        }
      ],
      "source": [
        "for index, row in dataAnalisis4.drop('Nitrogeno Ammonia',axis=1).iterrows():\n",
        "  line=plt.plot(row, alpha=overlapping,lw=5)\n",
        "plt.axhline(y=0.4, color='r', linestyle='--')\n",
        "plt.axhline(y=0.3, color='r', linestyle='--')\n",
        "plt.show()"
      ]
    },
    {
      "cell_type": "markdown",
      "source": [
        "# Modelos"
      ],
      "metadata": {
        "id": "5Glk0C4Qm--J"
      }
    },
    {
      "cell_type": "code",
      "execution_count": 18,
      "metadata": {
        "id": "ITLuTTjODf4-"
      },
      "outputs": [],
      "source": [
        "from sklearn.ensemble import RandomForestRegressor\n",
        "from sklearn import linear_model\n",
        "from sklearn.datasets import make_classification\n",
        "from sklearn.metrics import mean_squared_error\n",
        "from sklearn.neural_network import MLPRegressor\n",
        "from sklearn.preprocessing import StandardScaler\n",
        "from sklearn.model_selection import train_test_split"
      ]
    },
    {
      "cell_type": "code",
      "execution_count": 19,
      "metadata": {
        "id": "v1c_AfmPDiBi"
      },
      "outputs": [],
      "source": [
        "Y = dataAnalisis['Nitrogeno Ammonia']\n",
        "X = dataAnalisis.drop(labels=['Nitrogeno Ammonia'], axis=1)"
      ]
    },
    {
      "cell_type": "code",
      "execution_count": 20,
      "metadata": {
        "id": "WSVPUDSDEuWC"
      },
      "outputs": [],
      "source": [
        "X_train, X_test, Y_train, Y_test = train_test_split(X, Y, test_size=0.2)"
      ]
    },
    {
      "cell_type": "markdown",
      "source": [
        "## Random forrest"
      ],
      "metadata": {
        "id": "P5w_RAAqnJIC"
      }
    },
    {
      "cell_type": "code",
      "execution_count": 41,
      "metadata": {
        "colab": {
          "base_uri": "https://localhost:8080/"
        },
        "id": "MQ9JaK2rxCyW",
        "outputId": "a168195a-c21e-4445-a47c-33bc812ae713"
      },
      "outputs": [
        {
          "output_type": "execute_result",
          "data": {
            "text/plain": [
              "RandomForestRegressor(max_depth=8)"
            ]
          },
          "metadata": {},
          "execution_count": 41
        }
      ],
      "source": [
        "rfn = RandomForestRegressor(max_depth=8)\n",
        "rfn.fit(X_train, Y_train)"
      ]
    },
    {
      "cell_type": "code",
      "execution_count": 42,
      "metadata": {
        "id": "rqL6c-PexL55"
      },
      "outputs": [],
      "source": [
        "Yr_test=rfn.predict(X_test)\n",
        "Yr_train=rfn.predict(X_train)"
      ]
    },
    {
      "cell_type": "code",
      "execution_count": 43,
      "metadata": {
        "id": "ygc5rn_rxS8y",
        "colab": {
          "base_uri": "https://localhost:8080/"
        },
        "outputId": "14254153-1a31-41a2-9a64-73e85ac6cd59"
      },
      "outputs": [
        {
          "output_type": "execute_result",
          "data": {
            "text/plain": [
              "6.356518343076017e-05"
            ]
          },
          "metadata": {},
          "execution_count": 43
        }
      ],
      "source": [
        "mean_squared_error(Yr_test,Y_test)"
      ]
    },
    {
      "cell_type": "code",
      "execution_count": 44,
      "metadata": {
        "id": "8rtMNmSr0Cqu",
        "colab": {
          "base_uri": "https://localhost:8080/",
          "height": 261
        },
        "outputId": "365d3f67-4f4f-4df6-ffde-4b66169ffc58"
      },
      "outputs": [
        {
          "output_type": "display_data",
          "data": {
            "text/plain": [
              "<Figure size 540x252 with 1 Axes>"
            ],
            "image/png": "[encoded data removed]"
          },
          "metadata": {
            "needs_background": "light"
          }
        }
      ],
      "source": [
        "plt.scatter(Yr_test, Y_test)\n",
        "plt.show()"
      ]
    },
    {
      "cell_type": "code",
      "execution_count": 45,
      "metadata": {
        "id": "gCixYn94yHhp",
        "colab": {
          "base_uri": "https://localhost:8080/"
        },
        "outputId": "4008a12f-e1e3-4c5c-f0be-d870d1d75b7b"
      },
      "outputs": [
        {
          "output_type": "execute_result",
          "data": {
            "text/plain": [
              "4.714357924533139e-06"
            ]
          },
          "metadata": {},
          "execution_count": 45
        }
      ],
      "source": [
        "mean_squared_error(Yr_train,Y_train)"
      ]
    },
    {
      "cell_type": "code",
      "execution_count": 46,
      "metadata": {
        "id": "tXvFtQ8f0Dpo",
        "colab": {
          "base_uri": "https://localhost:8080/",
          "height": 261
        },
        "outputId": "0d0094ef-70c6-4bd9-8727-ac44a7eca94a"
      },
      "outputs": [
        {
          "output_type": "display_data",
          "data": {
            "text/plain": [
              "<Figure size 540x252 with 1 Axes>"
            ],
            "image/png": "[encoded data removed]"
          },
          "metadata": {
            "needs_background": "light"
          }
        }
      ],
      "source": [
        "plt.scatter(Yr_train, Y_train)\n",
        "plt.show()"
      ]
    },
    {
      "cell_type": "markdown",
      "source": [
        "## Regresión lineal"
      ],
      "metadata": {
        "id": "rc9Q1qbFnODA"
      }
    },
    {
      "cell_type": "code",
      "execution_count": 47,
      "metadata": {
        "id": "LNHKz0Wp7yEF",
        "outputId": "1f13377a-fd8b-4af9-efb1-cae1fe544c53",
        "colab": {
          "base_uri": "https://localhost:8080/"
        }
      },
      "outputs": [
        {
          "output_type": "stream",
          "name": "stdout",
          "text": [
            "0.04649771442850961\n",
            "[-0.32778473 -0.35390888  0.76383279  0.75768681 -1.42979292  1.10046174\n",
            " -0.51478888  0.80358731 -0.81254175 -0.12991284  0.36054361  0.20916248]\n"
          ]
        }
      ],
      "source": [
        "lr=linear_model.LinearRegression()\n",
        "lr=lr.fit(X_train, Y_train)\n",
        "print(lr.intercept_)\n",
        "print(lr.coef_)"
      ]
    },
    {
      "cell_type": "code",
      "execution_count": 48,
      "metadata": {
        "id": "ffmZC2m58Qny"
      },
      "outputs": [],
      "source": [
        "Yl_test=lr.predict(X_test)\n",
        "Yl_train=lr.predict(X_train)"
      ]
    },
    {
      "cell_type": "code",
      "execution_count": 49,
      "metadata": {
        "id": "LB6X77UA8Xbt",
        "colab": {
          "base_uri": "https://localhost:8080/"
        },
        "outputId": "6490ea38-c3e0-4070-aec5-003ed5bd32ee"
      },
      "outputs": [
        {
          "output_type": "execute_result",
          "data": {
            "text/plain": [
              "4.498574144812816e-05"
            ]
          },
          "metadata": {},
          "execution_count": 49
        }
      ],
      "source": [
        "mean_squared_error(Yl_test,Y_test)"
      ]
    },
    {
      "cell_type": "code",
      "execution_count": 50,
      "metadata": {
        "id": "vUNWJxeq8Z4D",
        "colab": {
          "base_uri": "https://localhost:8080/",
          "height": 261
        },
        "outputId": "49ed9421-9882-43b4-aafe-0878dcc1ed37"
      },
      "outputs": [
        {
          "output_type": "display_data",
          "data": {
            "text/plain": [
              "<Figure size 540x252 with 1 Axes>"
            ],
            "image/png": "[encoded data removed]"
          },
          "metadata": {
            "needs_background": "light"
          }
        }
      ],
      "source": [
        "plt.scatter(Yl_test, Y_test)\n",
        "plt.show()"
      ]
    },
    {
      "cell_type": "code",
      "execution_count": 51,
      "metadata": {
        "id": "XwoYJTWQ8eU0",
        "colab": {
          "base_uri": "https://localhost:8080/"
        },
        "outputId": "c212970f-1304-4fa7-e028-a1a08c7d69a4"
      },
      "outputs": [
        {
          "output_type": "execute_result",
          "data": {
            "text/plain": [
              "7.498955866318294e-05"
            ]
          },
          "metadata": {},
          "execution_count": 51
        }
      ],
      "source": [
        "mean_squared_error(Yl_train,Y_train)"
      ]
    },
    {
      "cell_type": "code",
      "execution_count": 52,
      "metadata": {
        "id": "dikajH2_8fZU",
        "colab": {
          "base_uri": "https://localhost:8080/",
          "height": 261
        },
        "outputId": "95c02983-2cb4-4db5-9235-9d9e36df9176"
      },
      "outputs": [
        {
          "output_type": "display_data",
          "data": {
            "text/plain": [
              "<Figure size 540x252 with 1 Axes>"
            ],
            "image/png": "[encoded data removed]"
          },
          "metadata": {
            "needs_background": "light"
          }
        }
      ],
      "source": [
        "plt.scatter(Yl_train, Y_train)\n",
        "plt.show()"
      ]
    },
    {
      "cell_type": "markdown",
      "source": [
        "## Red neuronal"
      ],
      "metadata": {
        "id": "SkilGGelnRWi"
      }
    },
    {
      "cell_type": "code",
      "execution_count": 53,
      "metadata": {
        "id": "ZMnInpgr4vgJ",
        "colab": {
          "base_uri": "https://localhost:8080/"
        },
        "outputId": "440c77d2-1ca5-4be1-855f-03cb230ef84b"
      },
      "outputs": [
        {
          "output_type": "execute_result",
          "data": {
            "text/plain": [
              "MLPRegressor(alpha=1e-05, hidden_layer_sizes=(64, 16, 8), max_iter=100000)"
            ]
          },
          "metadata": {},
          "execution_count": 53
        }
      ],
      "source": [
        "nnw = MLPRegressor(solver='adam', alpha=1e-5,hidden_layer_sizes=(64,16,8), max_iter=100000)\n",
        "nnw.fit(X_train, Y_train)"
      ]
    },
    {
      "cell_type": "code",
      "execution_count": 54,
      "metadata": {
        "id": "19I8vpvR48c3"
      },
      "outputs": [],
      "source": [
        "Yn_test=nnw.predict(X_test)\n",
        "Yn_train=nnw.predict(X_train)"
      ]
    },
    {
      "cell_type": "code",
      "execution_count": 55,
      "metadata": {
        "id": "Tk49PEWw5GWh",
        "colab": {
          "base_uri": "https://localhost:8080/"
        },
        "outputId": "4dd84f11-b90c-4419-ce1d-c47bba421d8b"
      },
      "outputs": [
        {
          "output_type": "execute_result",
          "data": {
            "text/plain": [
              "0.00020547738569661681"
            ]
          },
          "metadata": {},
          "execution_count": 55
        }
      ],
      "source": [
        "mean_squared_error(Yn_test,Y_test)"
      ]
    },
    {
      "cell_type": "code",
      "execution_count": 56,
      "metadata": {
        "id": "a1ZBly8d5J81",
        "colab": {
          "base_uri": "https://localhost:8080/",
          "height": 261
        },
        "outputId": "ac122229-eb12-4907-a9c5-bf88f08b2a88"
      },
      "outputs": [
        {
          "output_type": "display_data",
          "data": {
            "text/plain": [
              "<Figure size 540x252 with 1 Axes>"
            ],
            "image/png": "[encoded data removed]"
          },
          "metadata": {
            "needs_background": "light"
          }
        }
      ],
      "source": [
        "plt.scatter(Yn_test, Y_test)\n",
        "plt.show()"
      ]
    },
    {
      "cell_type": "code",
      "execution_count": 57,
      "metadata": {
        "id": "cQcQj-tx5NQf",
        "colab": {
          "base_uri": "https://localhost:8080/"
        },
        "outputId": "13f570fd-9e07-4889-90c6-fb14f422afa4"
      },
      "outputs": [
        {
          "output_type": "execute_result",
          "data": {
            "text/plain": [
              "0.00012495614402112794"
            ]
          },
          "metadata": {},
          "execution_count": 57
        }
      ],
      "source": [
        "mean_squared_error(Yn_train,Y_train)"
      ]
    },
    {
      "cell_type": "code",
      "execution_count": 58,
      "metadata": {
        "id": "HLSFqmtc5Ola",
        "colab": {
          "base_uri": "https://localhost:8080/",
          "height": 261
        },
        "outputId": "8f834261-0388-4ea4-8476-941410892c6a"
      },
      "outputs": [
        {
          "output_type": "display_data",
          "data": {
            "text/plain": [
              "<Figure size 540x252 with 1 Axes>"
            ],
            "image/png": "[encoded data removed]"
          },
          "metadata": {
            "needs_background": "light"
          }
        }
      ],
      "source": [
        "plt.scatter(Yn_train, Y_train)\n",
        "plt.show()"
      ]
    },
    {
      "cell_type": "markdown",
      "source": [
        "##Métricas"
      ],
      "metadata": {
        "id": "SElkWhVloJcJ"
      }
    },
    {
      "cell_type": "code",
      "execution_count": 59,
      "metadata": {
        "id": "K6vJglb8Du21",
        "colab": {
          "base_uri": "https://localhost:8080/",
          "height": 143
        },
        "outputId": "a470d2d3-e52d-43dc-a879-5f2ffc7126e3"
      },
      "outputs": [
        {
          "output_type": "execute_result",
          "data": {
            "text/plain": [
              "             Dataset Modelo   MSETest  MSETrain   Min  Max\n",
              "0  Nitrogeno Ammonia    RFR  0.000064  0.000005  0.05  0.1\n",
              "1  Nitrogeno Ammonia    SLR  0.000045  0.000075  0.05  0.1\n",
              "2  Nitrogeno Ammonia   MLPR  0.000205  0.000125  0.05  0.1"
            ],
            "text/html": [
              "\n",
              "  <div id=\"df-23d8d672-6a08-4519-b929-6a67f7fe9f2a\">\n",
              "    <div class=\"colab-df-container\">\n",
              "      <div>\n",
              "<style scoped>\n",
              "    .dataframe tbody tr th:only-of-type {\n",
              "        vertical-align: middle;\n",
              "    }\n",
              "\n",
              "    .dataframe tbody tr th {\n",
              "        vertical-align: top;\n",
              "    }\n",
              "\n",
              "    .dataframe thead th {\n",
              "        text-align: right;\n",
              "    }\n",
              "</style>\n",
              "<table border=\"1\" class=\"dataframe\">\n",
              "  <thead>\n",
              "    <tr style=\"text-align: right;\">\n",
              "      <th></th>\n",
              "      <th>Dataset</th>\n",
              "      <th>Modelo</th>\n",
              "      <th>MSETest</th>\n",
              "      <th>MSETrain</th>\n",
              "      <th>Min</th>\n",
              "      <th>Max</th>\n",
              "    </tr>\n",
              "  </thead>\n",
              "  <tbody>\n",
              "    <tr>\n",
              "      <th>0</th>\n",
              "      <td>Nitrogeno Ammonia</td>\n",
              "      <td>RFR</td>\n",
              "      <td>0.000064</td>\n",
              "      <td>0.000005</td>\n",
              "      <td>0.05</td>\n",
              "      <td>0.1</td>\n",
              "    </tr>\n",
              "    <tr>\n",
              "      <th>1</th>\n",
              "      <td>Nitrogeno Ammonia</td>\n",
              "      <td>SLR</td>\n",
              "      <td>0.000045</td>\n",
              "      <td>0.000075</td>\n",
              "      <td>0.05</td>\n",
              "      <td>0.1</td>\n",
              "    </tr>\n",
              "    <tr>\n",
              "      <th>2</th>\n",
              "      <td>Nitrogeno Ammonia</td>\n",
              "      <td>MLPR</td>\n",
              "      <td>0.000205</td>\n",
              "      <td>0.000125</td>\n",
              "      <td>0.05</td>\n",
              "      <td>0.1</td>\n",
              "    </tr>\n",
              "  </tbody>\n",
              "</table>\n",
              "</div>\n",
              "      <button class=\"colab-df-convert\" onclick=\"convertToInteractive('df-23d8d672-6a08-4519-b929-6a67f7fe9f2a')\"\n",
              "              title=\"Convert this dataframe to an interactive table.\"\n",
              "              style=\"display:none;\">\n",
              "        \n",
              "  <svg xmlns=\"http://www.w3.org/2000/svg\" height=\"24px\"viewBox=\"0 0 24 24\"\n",
              "       width=\"24px\">\n",
              "    <path d=\"M0 0h24v24H0V0z\" fill=\"none\"/>\n",
              "    <path d=\"M18.56 5.44l.94 2.06.94-2.06 2.06-.94-2.06-.94-.94-2.06-.94 2.06-2.06.94zm-11 1L8.5 8.5l.94-2.06 2.06-.94-2.06-.94L8.5 2.5l-.94 2.06-2.06.94zm10 10l.94 2.06.94-2.06 2.06-.94-2.06-.94-.94-2.06-.94 2.06-2.06.94z\"/><path d=\"M17.41 7.96l-1.37-1.37c-.4-.4-.92-.59-1.43-.59-.52 0-1.04.2-1.43.59L10.3 9.45l-7.72 7.72c-.78.78-.78 2.05 0 2.83L4 21.41c.39.39.9.59 1.41.59.51 0 1.02-.2 1.41-.59l7.78-7.78 2.81-2.81c.8-.78.8-2.07 0-2.86zM5.41 20L4 18.59l7.72-7.72 1.47 1.35L5.41 20z\"/>\n",
              "  </svg>\n",
              "      </button>\n",
              "      \n",
              "  <style>\n",
              "    .colab-df-container {\n",
              "      display:flex;\n",
              "      flex-wrap:wrap;\n",
              "      gap: 12px;\n",
              "    }\n",
              "\n",
              "    .colab-df-convert {\n",
              "      background-color: #E8F0FE;\n",
              "      border: none;\n",
              "      border-radius: 50%;\n",
              "      cursor: pointer;\n",
              "      display: none;\n",
              "      fill: #1967D2;\n",
              "      height: 32px;\n",
              "      padding: 0 0 0 0;\n",
              "      width: 32px;\n",
              "    }\n",
              "\n",
              "    .colab-df-convert:hover {\n",
              "      background-color: #E2EBFA;\n",
              "      box-shadow: 0px 1px 2px rgba(60, 64, 67, 0.3), 0px 1px 3px 1px rgba(60, 64, 67, 0.15);\n",
              "      fill: #174EA6;\n",
              "    }\n",
              "\n",
              "    [theme=dark] .colab-df-convert {\n",
              "      background-color: #3B4455;\n",
              "      fill: #D2E3FC;\n",
              "    }\n",
              "\n",
              "    [theme=dark] .colab-df-convert:hover {\n",
              "      background-color: #434B5C;\n",
              "      box-shadow: 0px 1px 3px 1px rgba(0, 0, 0, 0.15);\n",
              "      filter: drop-shadow(0px 1px 2px rgba(0, 0, 0, 0.3));\n",
              "      fill: #FFFFFF;\n",
              "    }\n",
              "  </style>\n",
              "\n",
              "      <script>\n",
              "        const buttonEl =\n",
              "          document.querySelector('#df-23d8d672-6a08-4519-b929-6a67f7fe9f2a button.colab-df-convert');\n",
              "        buttonEl.style.display =\n",
              "          google.colab.kernel.accessAllowed ? 'block' : 'none';\n",
              "\n",
              "        async function convertToInteractive(key) {\n",
              "          const element = document.querySelector('#df-23d8d672-6a08-4519-b929-6a67f7fe9f2a');\n",
              "          const dataTable =\n",
              "            await google.colab.kernel.invokeFunction('convertToInteractive',\n",
              "                                                     [key], {});\n",
              "          if (!dataTable) return;\n",
              "\n",
              "          const docLinkHtml = 'Like what you see? Visit the ' +\n",
              "            '<a target=\"_blank\" href=https://colab.research.google.com/notebooks/data_table.ipynb>data table notebook</a>'\n",
              "            + ' to learn more about interactive tables.';\n",
              "          element.innerHTML = '';\n",
              "          dataTable['output_type'] = 'display_data';\n",
              "          await google.colab.output.renderOutput(dataTable, element);\n",
              "          const docLink = document.createElement('div');\n",
              "          docLink.innerHTML = docLinkHtml;\n",
              "          element.appendChild(docLink);\n",
              "        }\n",
              "      </script>\n",
              "    </div>\n",
              "  </div>\n",
              "  "
            ]
          },
          "metadata": {},
          "execution_count": 59
        }
      ],
      "source": [
        "Dataset=['Nitrogeno Ammonia','Nitrogeno Ammonia','Nitrogeno Ammonia']\n",
        "Model=['RFR','SLR','MLPR']\n",
        "MSETest=[mean_squared_error(Yr_test,Y_test), mean_squared_error(Yl_test,Y_test),mean_squared_error(Yn_test,Y_test)]\n",
        "MSETrain=[mean_squared_error(Yr_train,Y_train), mean_squared_error(Yl_train,Y_train), mean_squared_error(Yn_train,Y_train)]\n",
        "minarr=[dataAnalisis.min()[0],dataAnalisis.min()[0],dataAnalisis.min()[0]]\n",
        "maxarr=[dataAnalisis.max()[0],dataAnalisis.max()[0],dataAnalisis.max()[0]]\n",
        "Datasetpd = pd.DataFrame(Dataset)\n",
        "Datasetpd.columns = ['Dataset']\n",
        "Modelpd = pd.DataFrame(Model)\n",
        "Modelpd.columns=['Modelo']\n",
        "MSETestpd = pd.DataFrame(MSETest)\n",
        "MSETestpd.columns=['MSETest']\n",
        "MSETrainpd = pd.DataFrame(MSETrain)\n",
        "MSETrainpd.columns = ['MSETrain']\n",
        "minpd = pd.DataFrame(minarr)\n",
        "minpd.columns = ['Min']\n",
        "maxpd = pd.DataFrame(maxarr)\n",
        "maxpd.columns = ['Max']\n",
        "\n",
        "Track = Datasetpd.join(Modelpd)\n",
        "Track = Track.join(MSETestpd)\n",
        "Track = Track.join(MSETrainpd)\n",
        "Track = Track.join(minpd)\n",
        "Track = Track.join(maxpd)\n",
        "\n",
        "Track"
      ]
    },
    {
      "cell_type": "code",
      "source": [
        "Dataset=['Nitrogeno Ammonia','Nitrogeno Ammonia','Nitrogeno Ammonia']\n",
        "Model=['RFR','SLR','MLPR']\n",
        "RMSETest=[np.sqrt(mean_squared_error(Yr_test,Y_test)), np.sqrt(mean_squared_error(Yl_test,Y_test)),np.sqrt(mean_squared_error(Yn_test,Y_test))]\n",
        "RMSETrain=[np.sqrt(mean_squared_error(Yr_train,Y_train)), np.sqrt(mean_squared_error(Yl_train,Y_train)), np.sqrt(mean_squared_error(Yn_train,Y_train))]\n",
        "minarr=[dataAnalisis.min()[0],dataAnalisis.min()[0],dataAnalisis.min()[0]]\n",
        "maxarr=[dataAnalisis.max()[0],dataAnalisis.max()[0],dataAnalisis.max()[0]]\n",
        "PercentageTest=[np.sqrt(mean_squared_error(Yr_test,Y_test))/(remove_out(dataAnalisis,'Nitrogeno Ammonia')['Nitrogeno Ammonia'].max()-remove_out(dataAnalisis,'Nitrogeno Ammonia')['Nitrogeno Ammonia'].min()),np.sqrt(mean_squared_error(Yl_test,Y_test))/(remove_out(dataAnalisis,'Nitrogeno Ammonia')['Nitrogeno Ammonia'].max()-remove_out(dataAnalisis,'Nitrogeno Ammonia')['Nitrogeno Ammonia'].min()), np.sqrt(mean_squared_error(Yn_test,Y_test))/(remove_out(dataAnalisis,'Nitrogeno Ammonia')['Nitrogeno Ammonia'].max()-remove_out(dataAnalisis,'Nitrogeno Ammonia')['Nitrogeno Ammonia'].min())]\n",
        "PercentageTrain=[np.sqrt(mean_squared_error(Yr_train,Y_train))/(remove_out(dataAnalisis,'Nitrogeno Ammonia')['Nitrogeno Ammonia'].max()-remove_out(dataAnalisis,'Nitrogeno Ammonia')['Nitrogeno Ammonia'].min()),np.sqrt(mean_squared_error(Yl_train,Y_train))/(remove_out(dataAnalisis,'Nitrogeno Ammonia')['Nitrogeno Ammonia'].max()-remove_out(dataAnalisis,'Nitrogeno Ammonia')['Nitrogeno Ammonia'].min()), np.sqrt(mean_squared_error(Yn_train,Y_train))/(remove_out(dataAnalisis,'Nitrogeno Ammonia')['Nitrogeno Ammonia'].max()-remove_out(dataAnalisis,'Nitrogeno Ammonia')['Nitrogeno Ammonia'].min())]\n",
        "Datasetpd = pd.DataFrame(Dataset)\n",
        "Datasetpd.columns = ['Dataset']\n",
        "Modelpd = pd.DataFrame(Model)\n",
        "Modelpd.columns=['Modelo']\n",
        "RMSETestpd = pd.DataFrame(RMSETest)\n",
        "RMSETestpd.columns=['RMSETest']\n",
        "RMSETrainpd = pd.DataFrame(RMSETrain)\n",
        "RMSETrainpd.columns = ['RMSETrain']\n",
        "minpd = pd.DataFrame(minarr)\n",
        "minpd.columns = ['Min']\n",
        "maxpd = pd.DataFrame(maxarr)\n",
        "maxpd.columns = ['Max']\n",
        "PercTestpd=pd.DataFrame(PercentageTest)\n",
        "PercTestpd.columns = ['Porcentaje de error test']\n",
        "PercTrainpd=pd.DataFrame(PercentageTrain)\n",
        "PercTrainpd.columns = ['Porcentaje de error train']\n",
        "\n",
        "Track = Datasetpd.join(Modelpd)\n",
        "Track = Track.join(RMSETestpd)\n",
        "Track = Track.join(RMSETrainpd)\n",
        "Track = Track.join(minpd)\n",
        "Track = Track.join(maxpd)\n",
        "Track = Track.join(PercTestpd)\n",
        "Track = Track.join(PercTrainpd)\n",
        "\n",
        "Track"
      ],
      "metadata": {
        "colab": {
          "base_uri": "https://localhost:8080/",
          "height": 143
        },
        "id": "oPnKLvr-n-OG",
        "outputId": "8b47ae16-c7ec-42fb-b167-26afa9921c97"
      },
      "execution_count": 60,
      "outputs": [
        {
          "output_type": "execute_result",
          "data": {
            "text/plain": [
              "             Dataset Modelo  RMSETest  RMSETrain   Min  Max  \\\n",
              "0  Nitrogeno Ammonia    RFR  0.007973   0.002171  0.05  0.1   \n",
              "1  Nitrogeno Ammonia    SLR  0.006707   0.008660  0.05  0.1   \n",
              "2  Nitrogeno Ammonia   MLPR  0.014334   0.011178  0.05  0.1   \n",
              "\n",
              "   Porcentaje de error test  Porcentaje de error train  \n",
              "0                       NaN                        NaN  \n",
              "1                       NaN                        NaN  \n",
              "2                       NaN                        NaN  "
            ],
            "text/html": [
              "\n",
              "  <div id=\"df-f04088e4-97b8-45b0-99ea-c9a0abee356c\">\n",
              "    <div class=\"colab-df-container\">\n",
              "      <div>\n",
              "<style scoped>\n",
              "    .dataframe tbody tr th:only-of-type {\n",
              "        vertical-align: middle;\n",
              "    }\n",
              "\n",
              "    .dataframe tbody tr th {\n",
              "        vertical-align: top;\n",
              "    }\n",
              "\n",
              "    .dataframe thead th {\n",
              "        text-align: right;\n",
              "    }\n",
              "</style>\n",
              "<table border=\"1\" class=\"dataframe\">\n",
              "  <thead>\n",
              "    <tr style=\"text-align: right;\">\n",
              "      <th></th>\n",
              "      <th>Dataset</th>\n",
              "      <th>Modelo</th>\n",
              "      <th>RMSETest</th>\n",
              "      <th>RMSETrain</th>\n",
              "      <th>Min</th>\n",
              "      <th>Max</th>\n",
              "      <th>Porcentaje de error test</th>\n",
              "      <th>Porcentaje de error train</th>\n",
              "    </tr>\n",
              "  </thead>\n",
              "  <tbody>\n",
              "    <tr>\n",
              "      <th>0</th>\n",
              "      <td>Nitrogeno Ammonia</td>\n",
              "      <td>RFR</td>\n",
              "      <td>0.007973</td>\n",
              "      <td>0.002171</td>\n",
              "      <td>0.05</td>\n",
              "      <td>0.1</td>\n",
              "      <td>NaN</td>\n",
              "      <td>NaN</td>\n",
              "    </tr>\n",
              "    <tr>\n",
              "      <th>1</th>\n",
              "      <td>Nitrogeno Ammonia</td>\n",
              "      <td>SLR</td>\n",
              "      <td>0.006707</td>\n",
              "      <td>0.008660</td>\n",
              "      <td>0.05</td>\n",
              "      <td>0.1</td>\n",
              "      <td>NaN</td>\n",
              "      <td>NaN</td>\n",
              "    </tr>\n",
              "    <tr>\n",
              "      <th>2</th>\n",
              "      <td>Nitrogeno Ammonia</td>\n",
              "      <td>MLPR</td>\n",
              "      <td>0.014334</td>\n",
              "      <td>0.011178</td>\n",
              "      <td>0.05</td>\n",
              "      <td>0.1</td>\n",
              "      <td>NaN</td>\n",
              "      <td>NaN</td>\n",
              "    </tr>\n",
              "  </tbody>\n",
              "</table>\n",
              "</div>\n",
              "      <button class=\"colab-df-convert\" onclick=\"convertToInteractive('df-f04088e4-97b8-45b0-99ea-c9a0abee356c')\"\n",
              "              title=\"Convert this dataframe to an interactive table.\"\n",
              "              style=\"display:none;\">\n",
              "        \n",
              "  <svg xmlns=\"http://www.w3.org/2000/svg\" height=\"24px\"viewBox=\"0 0 24 24\"\n",
              "       width=\"24px\">\n",
              "    <path d=\"M0 0h24v24H0V0z\" fill=\"none\"/>\n",
              "    <path d=\"M18.56 5.44l.94 2.06.94-2.06 2.06-.94-2.06-.94-.94-2.06-.94 2.06-2.06.94zm-11 1L8.5 8.5l.94-2.06 2.06-.94-2.06-.94L8.5 2.5l-.94 2.06-2.06.94zm10 10l.94 2.06.94-2.06 2.06-.94-2.06-.94-.94-2.06-.94 2.06-2.06.94z\"/><path d=\"M17.41 7.96l-1.37-1.37c-.4-.4-.92-.59-1.43-.59-.52 0-1.04.2-1.43.59L10.3 9.45l-7.72 7.72c-.78.78-.78 2.05 0 2.83L4 21.41c.39.39.9.59 1.41.59.51 0 1.02-.2 1.41-.59l7.78-7.78 2.81-2.81c.8-.78.8-2.07 0-2.86zM5.41 20L4 18.59l7.72-7.72 1.47 1.35L5.41 20z\"/>\n",
              "  </svg>\n",
              "      </button>\n",
              "      \n",
              "  <style>\n",
              "    .colab-df-container {\n",
              "      display:flex;\n",
              "      flex-wrap:wrap;\n",
              "      gap: 12px;\n",
              "    }\n",
              "\n",
              "    .colab-df-convert {\n",
              "      background-color: #E8F0FE;\n",
              "      border: none;\n",
              "      border-radius: 50%;\n",
              "      cursor: pointer;\n",
              "      display: none;\n",
              "      fill: #1967D2;\n",
              "      height: 32px;\n",
              "      padding: 0 0 0 0;\n",
              "      width: 32px;\n",
              "    }\n",
              "\n",
              "    .colab-df-convert:hover {\n",
              "      background-color: #E2EBFA;\n",
              "      box-shadow: 0px 1px 2px rgba(60, 64, 67, 0.3), 0px 1px 3px 1px rgba(60, 64, 67, 0.15);\n",
              "      fill: #174EA6;\n",
              "    }\n",
              "\n",
              "    [theme=dark] .colab-df-convert {\n",
              "      background-color: #3B4455;\n",
              "      fill: #D2E3FC;\n",
              "    }\n",
              "\n",
              "    [theme=dark] .colab-df-convert:hover {\n",
              "      background-color: #434B5C;\n",
              "      box-shadow: 0px 1px 3px 1px rgba(0, 0, 0, 0.15);\n",
              "      filter: drop-shadow(0px 1px 2px rgba(0, 0, 0, 0.3));\n",
              "      fill: #FFFFFF;\n",
              "    }\n",
              "  </style>\n",
              "\n",
              "      <script>\n",
              "        const buttonEl =\n",
              "          document.querySelector('#df-f04088e4-97b8-45b0-99ea-c9a0abee356c button.colab-df-convert');\n",
              "        buttonEl.style.display =\n",
              "          google.colab.kernel.accessAllowed ? 'block' : 'none';\n",
              "\n",
              "        async function convertToInteractive(key) {\n",
              "          const element = document.querySelector('#df-f04088e4-97b8-45b0-99ea-c9a0abee356c');\n",
              "          const dataTable =\n",
              "            await google.colab.kernel.invokeFunction('convertToInteractive',\n",
              "                                                     [key], {});\n",
              "          if (!dataTable) return;\n",
              "\n",
              "          const docLinkHtml = 'Like what you see? Visit the ' +\n",
              "            '<a target=\"_blank\" href=https://colab.research.google.com/notebooks/data_table.ipynb>data table notebook</a>'\n",
              "            + ' to learn more about interactive tables.';\n",
              "          element.innerHTML = '';\n",
              "          dataTable['output_type'] = 'display_data';\n",
              "          await google.colab.output.renderOutput(dataTable, element);\n",
              "          const docLink = document.createElement('div');\n",
              "          docLink.innerHTML = docLinkHtml;\n",
              "          element.appendChild(docLink);\n",
              "        }\n",
              "      </script>\n",
              "    </div>\n",
              "  </div>\n",
              "  "
            ]
          },
          "metadata": {},
          "execution_count": 60
        }
      ]
    }
  ]
}