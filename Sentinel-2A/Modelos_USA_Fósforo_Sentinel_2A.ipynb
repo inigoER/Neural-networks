{
  "nbformat": 4,
  "nbformat_minor": 0,
  "metadata": {
    "colab": {
      "name": "Modelos USA Fósforo Sentinel 2A.ipynb",
      "provenance": [],
      "authorship_tag": "ABX9TyNP+URYNOEht5yzhgK5/GCw",
      "include_colab_link": true
    },
    "kernelspec": {
      "name": "python3",
      "display_name": "Python 3"
    },
    "language_info": {
      "name": "python"
    }
  },
  "cells": [
    {
      "cell_type": "markdown",
      "metadata": {
        "id": "view-in-github",
        "colab_type": "text"
      },
      "source": [
        "<a href=\"https://colab.research.google.com/github/inigoER/Neural-networks/blob/main/Sentinel-2A/Modelos_USA_F%C3%B3sforo_Sentinel_2A.ipynb\" target=\"_parent\"><img src=\"https://colab.research.google.com/assets/colab-badge.svg\" alt=\"Open In Colab\"/></a>"
      ]
    },
    {
      "cell_type": "markdown",
      "source": [
        "# Preparación"
      ],
      "metadata": {
        "id": "bmhYAg1KmI6E"
      }
    },
    {
      "cell_type": "code",
      "execution_count": 1,
      "metadata": {
        "colab": {
          "base_uri": "https://localhost:8080/"
        },
        "id": "52WRgMMRJ2gY",
        "outputId": "2f5a2757-3b9c-4e5d-fdbb-c7988bb15473"
      },
      "outputs": [
        {
          "output_type": "stream",
          "name": "stdout",
          "text": [
            "Looking in indexes: https://pypi.org/simple, https://us-python.pkg.dev/colab-wheels/public/simple/\n",
            "Requirement already satisfied: openpyxl in /usr/local/lib/python3.7/dist-packages (3.0.10)\n",
            "Requirement already satisfied: et-xmlfile in /usr/local/lib/python3.7/dist-packages (from openpyxl) (1.1.0)\n"
          ]
        }
      ],
      "source": [
        "!pip install openpyxl --upgrade"
      ]
    },
    {
      "cell_type": "code",
      "source": [
        "import pandas as pd\n",
        "import numpy as np\n",
        "import matplotlib.pyplot as plt\n",
        "import plotly.express as px"
      ],
      "metadata": {
        "id": "Uzups7oKJ4Tn"
      },
      "execution_count": 2,
      "outputs": []
    },
    {
      "cell_type": "code",
      "source": [
        "def remove_out(DataIn, colName):\n",
        "  q_l=DataIn[colName].quantile(0.25)\n",
        "  q_h=DataIn[colName].quantile(0.75)\n",
        "  IQR=q_h-q_l\n",
        "  OutRange=IQR*1.5\n",
        "  qoutl=(q_l-OutRange)\n",
        "  qouth=(q_h+OutRange)\n",
        "  DataOut=DataIn[(DataIn[colName] < qouth) & (DataIn[colName] > qoutl)]\n",
        "  return DataOut\n",
        "def getQuartiles(df,col):\n",
        "  quartArray=(df[col].quantile(0),df[col].quantile(0.25),df[col].quantile(0.5),df[col].quantile(0.75),df[col].quantile(1))\n",
        "  return quartArray"
      ],
      "metadata": {
        "id": "k8cuNdr1J5SL"
      },
      "execution_count": 3,
      "outputs": []
    },
    {
      "cell_type": "code",
      "source": [
        "data=pd.read_excel(\"Base de Fosforo con bandas USA Sentinel 2A.xlsx\")\n",
        "data.isnull().sum(axis=0)"
      ],
      "metadata": {
        "colab": {
          "base_uri": "https://localhost:8080/"
        },
        "id": "2D5SWc5IJ6fr",
        "outputId": "7b4166f1-8897-4673-d682-0ec6c34a11b4"
      },
      "execution_count": 4,
      "outputs": [
        {
          "output_type": "execute_result",
          "data": {
            "text/plain": [
              "Unnamed: 0     0\n",
              "Lat            0\n",
              "Lon            0\n",
              "Fecha          0\n",
              "Fosforo        0\n",
              "Fecha_ref      0\n",
              "Fecha_plus     0\n",
              "Fecha_less     0\n",
              "Actual_Date    0\n",
              "B1             0\n",
              "B2             0\n",
              "B3             0\n",
              "B4             0\n",
              "B5             0\n",
              "B6             0\n",
              "B7             0\n",
              "B8             0\n",
              "B8A            0\n",
              "B9             0\n",
              "B11            0\n",
              "B12            0\n",
              "dtype: int64"
            ]
          },
          "metadata": {},
          "execution_count": 4
        }
      ]
    },
    {
      "cell_type": "code",
      "source": [
        "dataAnalisis=data.drop(labels=['Unnamed: 0','Lat','Lon','Fecha','Fecha_ref','Fecha_plus','Fecha_less','Actual_Date'], axis=1)\n",
        "dataAnalisis.isnull().sum(axis=0)"
      ],
      "metadata": {
        "colab": {
          "base_uri": "https://localhost:8080/"
        },
        "id": "W6x55s3NKTNy",
        "outputId": "62cb32b1-9638-46c5-a95c-ac2c08f1c336"
      },
      "execution_count": 5,
      "outputs": [
        {
          "output_type": "execute_result",
          "data": {
            "text/plain": [
              "Fosforo    0\n",
              "B1         0\n",
              "B2         0\n",
              "B3         0\n",
              "B4         0\n",
              "B5         0\n",
              "B6         0\n",
              "B7         0\n",
              "B8         0\n",
              "B8A        0\n",
              "B9         0\n",
              "B11        0\n",
              "B12        0\n",
              "dtype: int64"
            ]
          },
          "metadata": {},
          "execution_count": 5
        }
      ]
    },
    {
      "cell_type": "code",
      "source": [
        "dataAnalisis=dataAnalisis.reset_index()\n",
        "dataAnalisis=dataAnalisis.drop('index',axis=1)\n",
        "for col in dataAnalisis:\n",
        "  if col!='Fosforo':\n",
        "    max=dataAnalisis[col].max()\n",
        "    min=dataAnalisis[col].min()\n",
        "  #Asegurarse de que la feature tenga valores distintos, o sea una desviación mayor a 0.\n",
        "    if max!=min:\n",
        "      dataAnalisis[col]=dataAnalisis[col].apply(\n",
        "          lambda value: (value)/(20000)\n",
        "          )\n",
        "  #Si la feature tiene una desviación de 0 (todos sus valores son iguales), desecharla\n",
        "    else:\n",
        "      dataAnalisis.drop(col,axis=1)\n",
        "dataAnalisis"
      ],
      "metadata": {
        "colab": {
          "base_uri": "https://localhost:8080/",
          "height": 424
        },
        "id": "4HNpBCfmsj5F",
        "outputId": "ba6094eb-51d7-48b6-8992-40648c4bca65"
      },
      "execution_count": 6,
      "outputs": [
        {
          "output_type": "execute_result",
          "data": {
            "text/plain": [
              "     Fosforo       B1       B2       B3       B4       B5       B6       B7  \\\n",
              "0       0.07  0.00925  0.01835  0.03750  0.03520  0.03480  0.01125  0.01060   \n",
              "1       0.04  0.01240  0.01295  0.02420  0.01050  0.01295  0.00400  0.00310   \n",
              "2       0.04  0.01930  0.02790  0.03730  0.02600  0.02325  0.00745  0.00780   \n",
              "3       0.06  0.02415  0.03330  0.04875  0.04040  0.04085  0.01590  0.01430   \n",
              "4       0.05  0.01690  0.02595  0.03695  0.02365  0.02005  0.00335  0.00435   \n",
              "..       ...      ...      ...      ...      ...      ...      ...      ...   \n",
              "465     0.03  0.01510  0.01970  0.02990  0.01495  0.01100  0.00390  0.00410   \n",
              "466     0.03  0.01550  0.02145  0.02780  0.01325  0.00995  0.00450  0.00460   \n",
              "467     0.03  0.01475  0.02090  0.02985  0.01595  0.01150  0.00310  0.00370   \n",
              "468     0.06  0.03330  0.04800  0.06210  0.06500  0.07125  0.06110  0.06250   \n",
              "469     0.07  0.03005  0.03760  0.05270  0.05090  0.04875  0.02350  0.02335   \n",
              "\n",
              "          B8      B8A       B9      B11      B12  \n",
              "0    0.00845  0.00380  0.00005  0.00005  0.00005  \n",
              "1    0.00435  0.00265  0.00005  0.00140  0.00155  \n",
              "2    0.00730  0.00440  0.00080  0.00140  0.00170  \n",
              "3    0.01285  0.00730  0.00040  0.00065  0.00065  \n",
              "4    0.00265  0.00115  0.00005  0.00125  0.00170  \n",
              "..       ...      ...      ...      ...      ...  \n",
              "465  0.00390  0.00270  0.00010  0.00165  0.00160  \n",
              "466  0.00415  0.00265  0.00100  0.00165  0.00110  \n",
              "467  0.00325  0.00215  0.00005  0.00215  0.00185  \n",
              "468  0.06180  0.05685  0.01320  0.00985  0.00915  \n",
              "469  0.02135  0.01445  0.00395  0.00495  0.00500  \n",
              "\n",
              "[470 rows x 13 columns]"
            ],
            "text/html": [
              "\n",
              "  <div id=\"df-bdc24cf8-78ad-452f-be79-56601e622df5\">\n",
              "    <div class=\"colab-df-container\">\n",
              "      <div>\n",
              "<style scoped>\n",
              "    .dataframe tbody tr th:only-of-type {\n",
              "        vertical-align: middle;\n",
              "    }\n",
              "\n",
              "    .dataframe tbody tr th {\n",
              "        vertical-align: top;\n",
              "    }\n",
              "\n",
              "    .dataframe thead th {\n",
              "        text-align: right;\n",
              "    }\n",
              "</style>\n",
              "<table border=\"1\" class=\"dataframe\">\n",
              "  <thead>\n",
              "    <tr style=\"text-align: right;\">\n",
              "      <th></th>\n",
              "      <th>Fosforo</th>\n",
              "      <th>B1</th>\n",
              "      <th>B2</th>\n",
              "      <th>B3</th>\n",
              "      <th>B4</th>\n",
              "      <th>B5</th>\n",
              "      <th>B6</th>\n",
              "      <th>B7</th>\n",
              "      <th>B8</th>\n",
              "      <th>B8A</th>\n",
              "      <th>B9</th>\n",
              "      <th>B11</th>\n",
              "      <th>B12</th>\n",
              "    </tr>\n",
              "  </thead>\n",
              "  <tbody>\n",
              "    <tr>\n",
              "      <th>0</th>\n",
              "      <td>0.07</td>\n",
              "      <td>0.00925</td>\n",
              "      <td>0.01835</td>\n",
              "      <td>0.03750</td>\n",
              "      <td>0.03520</td>\n",
              "      <td>0.03480</td>\n",
              "      <td>0.01125</td>\n",
              "      <td>0.01060</td>\n",
              "      <td>0.00845</td>\n",
              "      <td>0.00380</td>\n",
              "      <td>0.00005</td>\n",
              "      <td>0.00005</td>\n",
              "      <td>0.00005</td>\n",
              "    </tr>\n",
              "    <tr>\n",
              "      <th>1</th>\n",
              "      <td>0.04</td>\n",
              "      <td>0.01240</td>\n",
              "      <td>0.01295</td>\n",
              "      <td>0.02420</td>\n",
              "      <td>0.01050</td>\n",
              "      <td>0.01295</td>\n",
              "      <td>0.00400</td>\n",
              "      <td>0.00310</td>\n",
              "      <td>0.00435</td>\n",
              "      <td>0.00265</td>\n",
              "      <td>0.00005</td>\n",
              "      <td>0.00140</td>\n",
              "      <td>0.00155</td>\n",
              "    </tr>\n",
              "    <tr>\n",
              "      <th>2</th>\n",
              "      <td>0.04</td>\n",
              "      <td>0.01930</td>\n",
              "      <td>0.02790</td>\n",
              "      <td>0.03730</td>\n",
              "      <td>0.02600</td>\n",
              "      <td>0.02325</td>\n",
              "      <td>0.00745</td>\n",
              "      <td>0.00780</td>\n",
              "      <td>0.00730</td>\n",
              "      <td>0.00440</td>\n",
              "      <td>0.00080</td>\n",
              "      <td>0.00140</td>\n",
              "      <td>0.00170</td>\n",
              "    </tr>\n",
              "    <tr>\n",
              "      <th>3</th>\n",
              "      <td>0.06</td>\n",
              "      <td>0.02415</td>\n",
              "      <td>0.03330</td>\n",
              "      <td>0.04875</td>\n",
              "      <td>0.04040</td>\n",
              "      <td>0.04085</td>\n",
              "      <td>0.01590</td>\n",
              "      <td>0.01430</td>\n",
              "      <td>0.01285</td>\n",
              "      <td>0.00730</td>\n",
              "      <td>0.00040</td>\n",
              "      <td>0.00065</td>\n",
              "      <td>0.00065</td>\n",
              "    </tr>\n",
              "    <tr>\n",
              "      <th>4</th>\n",
              "      <td>0.05</td>\n",
              "      <td>0.01690</td>\n",
              "      <td>0.02595</td>\n",
              "      <td>0.03695</td>\n",
              "      <td>0.02365</td>\n",
              "      <td>0.02005</td>\n",
              "      <td>0.00335</td>\n",
              "      <td>0.00435</td>\n",
              "      <td>0.00265</td>\n",
              "      <td>0.00115</td>\n",
              "      <td>0.00005</td>\n",
              "      <td>0.00125</td>\n",
              "      <td>0.00170</td>\n",
              "    </tr>\n",
              "    <tr>\n",
              "      <th>...</th>\n",
              "      <td>...</td>\n",
              "      <td>...</td>\n",
              "      <td>...</td>\n",
              "      <td>...</td>\n",
              "      <td>...</td>\n",
              "      <td>...</td>\n",
              "      <td>...</td>\n",
              "      <td>...</td>\n",
              "      <td>...</td>\n",
              "      <td>...</td>\n",
              "      <td>...</td>\n",
              "      <td>...</td>\n",
              "      <td>...</td>\n",
              "    </tr>\n",
              "    <tr>\n",
              "      <th>465</th>\n",
              "      <td>0.03</td>\n",
              "      <td>0.01510</td>\n",
              "      <td>0.01970</td>\n",
              "      <td>0.02990</td>\n",
              "      <td>0.01495</td>\n",
              "      <td>0.01100</td>\n",
              "      <td>0.00390</td>\n",
              "      <td>0.00410</td>\n",
              "      <td>0.00390</td>\n",
              "      <td>0.00270</td>\n",
              "      <td>0.00010</td>\n",
              "      <td>0.00165</td>\n",
              "      <td>0.00160</td>\n",
              "    </tr>\n",
              "    <tr>\n",
              "      <th>466</th>\n",
              "      <td>0.03</td>\n",
              "      <td>0.01550</td>\n",
              "      <td>0.02145</td>\n",
              "      <td>0.02780</td>\n",
              "      <td>0.01325</td>\n",
              "      <td>0.00995</td>\n",
              "      <td>0.00450</td>\n",
              "      <td>0.00460</td>\n",
              "      <td>0.00415</td>\n",
              "      <td>0.00265</td>\n",
              "      <td>0.00100</td>\n",
              "      <td>0.00165</td>\n",
              "      <td>0.00110</td>\n",
              "    </tr>\n",
              "    <tr>\n",
              "      <th>467</th>\n",
              "      <td>0.03</td>\n",
              "      <td>0.01475</td>\n",
              "      <td>0.02090</td>\n",
              "      <td>0.02985</td>\n",
              "      <td>0.01595</td>\n",
              "      <td>0.01150</td>\n",
              "      <td>0.00310</td>\n",
              "      <td>0.00370</td>\n",
              "      <td>0.00325</td>\n",
              "      <td>0.00215</td>\n",
              "      <td>0.00005</td>\n",
              "      <td>0.00215</td>\n",
              "      <td>0.00185</td>\n",
              "    </tr>\n",
              "    <tr>\n",
              "      <th>468</th>\n",
              "      <td>0.06</td>\n",
              "      <td>0.03330</td>\n",
              "      <td>0.04800</td>\n",
              "      <td>0.06210</td>\n",
              "      <td>0.06500</td>\n",
              "      <td>0.07125</td>\n",
              "      <td>0.06110</td>\n",
              "      <td>0.06250</td>\n",
              "      <td>0.06180</td>\n",
              "      <td>0.05685</td>\n",
              "      <td>0.01320</td>\n",
              "      <td>0.00985</td>\n",
              "      <td>0.00915</td>\n",
              "    </tr>\n",
              "    <tr>\n",
              "      <th>469</th>\n",
              "      <td>0.07</td>\n",
              "      <td>0.03005</td>\n",
              "      <td>0.03760</td>\n",
              "      <td>0.05270</td>\n",
              "      <td>0.05090</td>\n",
              "      <td>0.04875</td>\n",
              "      <td>0.02350</td>\n",
              "      <td>0.02335</td>\n",
              "      <td>0.02135</td>\n",
              "      <td>0.01445</td>\n",
              "      <td>0.00395</td>\n",
              "      <td>0.00495</td>\n",
              "      <td>0.00500</td>\n",
              "    </tr>\n",
              "  </tbody>\n",
              "</table>\n",
              "<p>470 rows × 13 columns</p>\n",
              "</div>\n",
              "      <button class=\"colab-df-convert\" onclick=\"convertToInteractive('df-bdc24cf8-78ad-452f-be79-56601e622df5')\"\n",
              "              title=\"Convert this dataframe to an interactive table.\"\n",
              "              style=\"display:none;\">\n",
              "        \n",
              "  <svg xmlns=\"http://www.w3.org/2000/svg\" height=\"24px\"viewBox=\"0 0 24 24\"\n",
              "       width=\"24px\">\n",
              "    <path d=\"M0 0h24v24H0V0z\" fill=\"none\"/>\n",
              "    <path d=\"M18.56 5.44l.94 2.06.94-2.06 2.06-.94-2.06-.94-.94-2.06-.94 2.06-2.06.94zm-11 1L8.5 8.5l.94-2.06 2.06-.94-2.06-.94L8.5 2.5l-.94 2.06-2.06.94zm10 10l.94 2.06.94-2.06 2.06-.94-2.06-.94-.94-2.06-.94 2.06-2.06.94z\"/><path d=\"M17.41 7.96l-1.37-1.37c-.4-.4-.92-.59-1.43-.59-.52 0-1.04.2-1.43.59L10.3 9.45l-7.72 7.72c-.78.78-.78 2.05 0 2.83L4 21.41c.39.39.9.59 1.41.59.51 0 1.02-.2 1.41-.59l7.78-7.78 2.81-2.81c.8-.78.8-2.07 0-2.86zM5.41 20L4 18.59l7.72-7.72 1.47 1.35L5.41 20z\"/>\n",
              "  </svg>\n",
              "      </button>\n",
              "      \n",
              "  <style>\n",
              "    .colab-df-container {\n",
              "      display:flex;\n",
              "      flex-wrap:wrap;\n",
              "      gap: 12px;\n",
              "    }\n",
              "\n",
              "    .colab-df-convert {\n",
              "      background-color: #E8F0FE;\n",
              "      border: none;\n",
              "      border-radius: 50%;\n",
              "      cursor: pointer;\n",
              "      display: none;\n",
              "      fill: #1967D2;\n",
              "      height: 32px;\n",
              "      padding: 0 0 0 0;\n",
              "      width: 32px;\n",
              "    }\n",
              "\n",
              "    .colab-df-convert:hover {\n",
              "      background-color: #E2EBFA;\n",
              "      box-shadow: 0px 1px 2px rgba(60, 64, 67, 0.3), 0px 1px 3px 1px rgba(60, 64, 67, 0.15);\n",
              "      fill: #174EA6;\n",
              "    }\n",
              "\n",
              "    [theme=dark] .colab-df-convert {\n",
              "      background-color: #3B4455;\n",
              "      fill: #D2E3FC;\n",
              "    }\n",
              "\n",
              "    [theme=dark] .colab-df-convert:hover {\n",
              "      background-color: #434B5C;\n",
              "      box-shadow: 0px 1px 3px 1px rgba(0, 0, 0, 0.15);\n",
              "      filter: drop-shadow(0px 1px 2px rgba(0, 0, 0, 0.3));\n",
              "      fill: #FFFFFF;\n",
              "    }\n",
              "  </style>\n",
              "\n",
              "      <script>\n",
              "        const buttonEl =\n",
              "          document.querySelector('#df-bdc24cf8-78ad-452f-be79-56601e622df5 button.colab-df-convert');\n",
              "        buttonEl.style.display =\n",
              "          google.colab.kernel.accessAllowed ? 'block' : 'none';\n",
              "\n",
              "        async function convertToInteractive(key) {\n",
              "          const element = document.querySelector('#df-bdc24cf8-78ad-452f-be79-56601e622df5');\n",
              "          const dataTable =\n",
              "            await google.colab.kernel.invokeFunction('convertToInteractive',\n",
              "                                                     [key], {});\n",
              "          if (!dataTable) return;\n",
              "\n",
              "          const docLinkHtml = 'Like what you see? Visit the ' +\n",
              "            '<a target=\"_blank\" href=https://colab.research.google.com/notebooks/data_table.ipynb>data table notebook</a>'\n",
              "            + ' to learn more about interactive tables.';\n",
              "          element.innerHTML = '';\n",
              "          dataTable['output_type'] = 'display_data';\n",
              "          await google.colab.output.renderOutput(dataTable, element);\n",
              "          const docLink = document.createElement('div');\n",
              "          docLink.innerHTML = docLinkHtml;\n",
              "          element.appendChild(docLink);\n",
              "        }\n",
              "      </script>\n",
              "    </div>\n",
              "  </div>\n",
              "  "
            ]
          },
          "metadata": {},
          "execution_count": 6
        }
      ]
    },
    {
      "cell_type": "markdown",
      "source": [
        "#EDA"
      ],
      "metadata": {
        "id": "1BXgdgytmOKH"
      }
    },
    {
      "cell_type": "markdown",
      "metadata": {
        "id": "ZT-Vp4hu1AFc"
      },
      "source": [
        "##Histograma"
      ]
    },
    {
      "cell_type": "code",
      "execution_count": 7,
      "metadata": {
        "colab": {
          "base_uri": "https://localhost:8080/",
          "height": 542
        },
        "id": "sQCK0ypWwEs_",
        "outputId": "c75b2c53-be39-4c3b-f6cd-a039b2a09ca8"
      },
      "outputs": [
        {
          "output_type": "display_data",
          "data": {
            "text/html": [
              "<html>\n",
              "<head><meta charset=\"utf-8\" /></head>\n",
              "<body>\n",
              "    <div>            <script src=\"https://cdnjs.cloudflare.com/ajax/libs/mathjax/2.7.5/MathJax.js?config=TeX-AMS-MML_SVG\"></script><script type=\"text/javascript\">if (window.MathJax) {MathJax.Hub.Config({SVG: {font: \"STIX-Web\"}});}</script>                <script type=\"text/javascript\">window.PlotlyConfig = {MathJaxConfig: 'local'};</script>\n",
              "        <script src=\"https://cdn.plot.ly/plotly-2.8.3.min.js\"></script>                <div id=\"27bef48b-3d03-4e96-ae26-57998b899e44\" class=\"plotly-graph-div\" style=\"height:525px; width:100%;\"></div>            <script type=\"text/javascript\">                                    window.PLOTLYENV=window.PLOTLYENV || {};                                    if (document.getElementById(\"27bef48b-3d03-4e96-ae26-57998b899e44\")) {                    Plotly.newPlot(                        \"27bef48b-3d03-4e96-ae26-57998b899e44\",                        [{\"alignmentgroup\":\"True\",\"bingroup\":\"x\",\"hovertemplate\":\"Fosforo=%{x}<br>count=%{y}<extra></extra>\",\"legendgroup\":\"\",\"marker\":{\"color\":\"#636efa\",\"pattern\":{\"shape\":\"\"}},\"name\":\"\",\"offsetgroup\":\"\",\"orientation\":\"v\",\"showlegend\":false,\"x\":[0.07,0.04,0.04,0.06,0.05,0.05,0.07,0.1,0.05,0.14,0.06,0.11,0.11,0.13,0.11,0.07,0.11,0.14,0.13,0.16,0.13,0.08,0.1,0.09,0.14,0.13,0.16,0.13,0.08,0.1,0.09,0.05,0.04,0.04,0.05,0.04,0.03,0.04,0.04,0.06,0.05,0.05,0.05,0.14,0.06,0.11,0.11,0.13,0.11,0.07,0.05,0.05,0.05,0.08,0.04,0.06,0.11,0.11,0.13,0.11,0.07,0.13,0.16,0.13,0.08,0.1,0.09,0.05,0.09,0.14,0.08,0.1,0.13,0.08,0.1,0.09,0.05,0.04,0.04,0.05,0.04,0.03,0.04,0.04,0.06,0.05,0.05,0.05,0.08,0.04,0.11,0.11,0.13,0.11,0.07,0.08,0.04,0.07,0.08,0.09,0.13,0.11,0.07,0.08,0.1,0.09,0.05,0.04,0.04,0.05,0.09,0.1,0.08,0.1,0.09,0.05,0.04,0.04,0.05,0.04,0.03,0.04,0.04,0.06,0.05,0.05,0.05,0.08,0.04,0.07,0.08,0.09,0.11,0.07,0.08,0.09,0.07,0.07,0.05,0.1,0.1,0.08,0.1,0.09,0.05,0.04,0.04,0.05,0.04,0.03,0.04,0.1,0.11,0.14,0.1,0.09,0.05,0.04,0.04,0.05,0.04,0.03,0.04,0.04,0.06,0.05,0.05,0.05,0.08,0.04,0.07,0.08,0.09,0.07,0.07,0.07,0.1,0.05,0.14,0.06,0.1,0.09,0.04,0.04,0.05,0.04,0.03,0.04,0.04,0.06,0.05,0.1,0.14,0.13,0.16,0.13,0.04,0.04,0.05,0.04,0.03,0.04,0.04,0.06,0.05,0.05,0.05,0.08,0.04,0.07,0.08,0.09,0.07,0.07,0.1,0.06,0.11,0.11,0.13,0.1,0.04,0.05,0.04,0.03,0.04,0.04,0.06,0.05,0.05,0.05,0.08,0.1,0.09,0.14,0.08,0.14,0.13,0.04,0.03,0.04,0.04,0.06,0.05,0.05,0.05,0.08,0.04,0.07,0.08,0.09,0.07,0.07,0.06,0.13,0.11,0.07,0.1,0.09,0.14,0.08,0.03,0.04,0.04,0.06,0.05,0.05,0.05,0.08,0.04,0.07,0.08,0.13,0.09,0.12,0.08,0.13,0.15,0.11,0.13,0.19,0.15,0.11,0.13,0.19,0.12,0.12,0.21,0.18,0.12,0.14,0.14,0.14,0.14,0.15,0.12,0.13,0.09,0.12,0.08,0.13,0.15,0.09,0.13,0.13,0.19,0.12,0.12,0.21,0.18,0.12,0.14,0.14,0.15,0.13,0.15,0.15,0.11,0.13,0.19,0.14,0.12,0.13,0.09,0.12,0.08,0.13,0.15,0.11,0.13,0.19,0.12,0.12,0.21,0.18,0.12,0.14,0.14,0.15,0.12,0.13,0.09,0.12,0.08,0.13,0.08,0.13,0.15,0.19,0.12,0.12,0.21,0.19,0.12,0.12,0.21,0.18,0.12,0.14,0.14,0.15,0.12,0.13,0.09,0.12,0.08,0.13,0.15,0.11,0.13,0.19,0.12,0.13,0.09,0.21,0.18,0.12,0.14,0.14,0.15,0.12,0.08,0.13,0.13,0.19,0.12,0.12,0.21,0.18,0.12,0.13,0.09,0.12,0.08,0.12,0.14,0.14,0.15,0.13,0.15,0.11,0.12,0.12,0.21,0.18,0.12,0.14,0.07,0.06,0.08,0.09,0.03,0.03,0.03,0.06,0.07,0.04,0.08,0.07,0.06,0.08,0.08,0.06,0.04,0.05,0.05,0.08,0.06,0.07,0.08,0.06,0.25,2.46,0.12,0.1,0.03,0.03,0.06,0.07,0.04,0.05,0.05,0.04,0.08,0.07,0.06,0.08,0.09,0.03,0.04,0.05,0.05,0.25,2.46,0.12,0.1,0.08,0.06,0.08,0.06,0.25,2.46,0.12,0.1,0.08,0.09,0.03,0.03,0.03,0.06,0.07],\"xaxis\":\"x\",\"yaxis\":\"y\",\"type\":\"histogram\"}],                        {\"template\":{\"data\":{\"bar\":[{\"error_x\":{\"color\":\"#2a3f5f\"},\"error_y\":{\"color\":\"#2a3f5f\"},\"marker\":{\"line\":{\"color\":\"#E5ECF6\",\"width\":0.5},\"pattern\":{\"fillmode\":\"overlay\",\"size\":10,\"solidity\":0.2}},\"type\":\"bar\"}],\"barpolar\":[{\"marker\":{\"line\":{\"color\":\"#E5ECF6\",\"width\":0.5},\"pattern\":{\"fillmode\":\"overlay\",\"size\":10,\"solidity\":0.2}},\"type\":\"barpolar\"}],\"carpet\":[{\"aaxis\":{\"endlinecolor\":\"#2a3f5f\",\"gridcolor\":\"white\",\"linecolor\":\"white\",\"minorgridcolor\":\"white\",\"startlinecolor\":\"#2a3f5f\"},\"baxis\":{\"endlinecolor\":\"#2a3f5f\",\"gridcolor\":\"white\",\"linecolor\":\"white\",\"minorgridcolor\":\"white\",\"startlinecolor\":\"#2a3f5f\"},\"type\":\"carpet\"}],\"choropleth\":[{\"colorbar\":{\"outlinewidth\":0,\"ticks\":\"\"},\"type\":\"choropleth\"}],\"contour\":[{\"colorbar\":{\"outlinewidth\":0,\"ticks\":\"\"},\"colorscale\":[[0.0,\"#0d0887\"],[0.1111111111111111,\"#46039f\"],[0.2222222222222222,\"#7201a8\"],[0.3333333333333333,\"#9c179e\"],[0.4444444444444444,\"#bd3786\"],[0.5555555555555556,\"#d8576b\"],[0.6666666666666666,\"#ed7953\"],[0.7777777777777778,\"#fb9f3a\"],[0.8888888888888888,\"#fdca26\"],[1.0,\"#f0f921\"]],\"type\":\"contour\"}],\"contourcarpet\":[{\"colorbar\":{\"outlinewidth\":0,\"ticks\":\"\"},\"type\":\"contourcarpet\"}],\"heatmap\":[{\"colorbar\":{\"outlinewidth\":0,\"ticks\":\"\"},\"colorscale\":[[0.0,\"#0d0887\"],[0.1111111111111111,\"#46039f\"],[0.2222222222222222,\"#7201a8\"],[0.3333333333333333,\"#9c179e\"],[0.4444444444444444,\"#bd3786\"],[0.5555555555555556,\"#d8576b\"],[0.6666666666666666,\"#ed7953\"],[0.7777777777777778,\"#fb9f3a\"],[0.8888888888888888,\"#fdca26\"],[1.0,\"#f0f921\"]],\"type\":\"heatmap\"}],\"heatmapgl\":[{\"colorbar\":{\"outlinewidth\":0,\"ticks\":\"\"},\"colorscale\":[[0.0,\"#0d0887\"],[0.1111111111111111,\"#46039f\"],[0.2222222222222222,\"#7201a8\"],[0.3333333333333333,\"#9c179e\"],[0.4444444444444444,\"#bd3786\"],[0.5555555555555556,\"#d8576b\"],[0.6666666666666666,\"#ed7953\"],[0.7777777777777778,\"#fb9f3a\"],[0.8888888888888888,\"#fdca26\"],[1.0,\"#f0f921\"]],\"type\":\"heatmapgl\"}],\"histogram\":[{\"marker\":{\"pattern\":{\"fillmode\":\"overlay\",\"size\":10,\"solidity\":0.2}},\"type\":\"histogram\"}],\"histogram2d\":[{\"colorbar\":{\"outlinewidth\":0,\"ticks\":\"\"},\"colorscale\":[[0.0,\"#0d0887\"],[0.1111111111111111,\"#46039f\"],[0.2222222222222222,\"#7201a8\"],[0.3333333333333333,\"#9c179e\"],[0.4444444444444444,\"#bd3786\"],[0.5555555555555556,\"#d8576b\"],[0.6666666666666666,\"#ed7953\"],[0.7777777777777778,\"#fb9f3a\"],[0.8888888888888888,\"#fdca26\"],[1.0,\"#f0f921\"]],\"type\":\"histogram2d\"}],\"histogram2dcontour\":[{\"colorbar\":{\"outlinewidth\":0,\"ticks\":\"\"},\"colorscale\":[[0.0,\"#0d0887\"],[0.1111111111111111,\"#46039f\"],[0.2222222222222222,\"#7201a8\"],[0.3333333333333333,\"#9c179e\"],[0.4444444444444444,\"#bd3786\"],[0.5555555555555556,\"#d8576b\"],[0.6666666666666666,\"#ed7953\"],[0.7777777777777778,\"#fb9f3a\"],[0.8888888888888888,\"#fdca26\"],[1.0,\"#f0f921\"]],\"type\":\"histogram2dcontour\"}],\"mesh3d\":[{\"colorbar\":{\"outlinewidth\":0,\"ticks\":\"\"},\"type\":\"mesh3d\"}],\"parcoords\":[{\"line\":{\"colorbar\":{\"outlinewidth\":0,\"ticks\":\"\"}},\"type\":\"parcoords\"}],\"pie\":[{\"automargin\":true,\"type\":\"pie\"}],\"scatter\":[{\"marker\":{\"colorbar\":{\"outlinewidth\":0,\"ticks\":\"\"}},\"type\":\"scatter\"}],\"scatter3d\":[{\"line\":{\"colorbar\":{\"outlinewidth\":0,\"ticks\":\"\"}},\"marker\":{\"colorbar\":{\"outlinewidth\":0,\"ticks\":\"\"}},\"type\":\"scatter3d\"}],\"scattercarpet\":[{\"marker\":{\"colorbar\":{\"outlinewidth\":0,\"ticks\":\"\"}},\"type\":\"scattercarpet\"}],\"scattergeo\":[{\"marker\":{\"colorbar\":{\"outlinewidth\":0,\"ticks\":\"\"}},\"type\":\"scattergeo\"}],\"scattergl\":[{\"marker\":{\"colorbar\":{\"outlinewidth\":0,\"ticks\":\"\"}},\"type\":\"scattergl\"}],\"scattermapbox\":[{\"marker\":{\"colorbar\":{\"outlinewidth\":0,\"ticks\":\"\"}},\"type\":\"scattermapbox\"}],\"scatterpolar\":[{\"marker\":{\"colorbar\":{\"outlinewidth\":0,\"ticks\":\"\"}},\"type\":\"scatterpolar\"}],\"scatterpolargl\":[{\"marker\":{\"colorbar\":{\"outlinewidth\":0,\"ticks\":\"\"}},\"type\":\"scatterpolargl\"}],\"scatterternary\":[{\"marker\":{\"colorbar\":{\"outlinewidth\":0,\"ticks\":\"\"}},\"type\":\"scatterternary\"}],\"surface\":[{\"colorbar\":{\"outlinewidth\":0,\"ticks\":\"\"},\"colorscale\":[[0.0,\"#0d0887\"],[0.1111111111111111,\"#46039f\"],[0.2222222222222222,\"#7201a8\"],[0.3333333333333333,\"#9c179e\"],[0.4444444444444444,\"#bd3786\"],[0.5555555555555556,\"#d8576b\"],[0.6666666666666666,\"#ed7953\"],[0.7777777777777778,\"#fb9f3a\"],[0.8888888888888888,\"#fdca26\"],[1.0,\"#f0f921\"]],\"type\":\"surface\"}],\"table\":[{\"cells\":{\"fill\":{\"color\":\"#EBF0F8\"},\"line\":{\"color\":\"white\"}},\"header\":{\"fill\":{\"color\":\"#C8D4E3\"},\"line\":{\"color\":\"white\"}},\"type\":\"table\"}]},\"layout\":{\"annotationdefaults\":{\"arrowcolor\":\"#2a3f5f\",\"arrowhead\":0,\"arrowwidth\":1},\"autotypenumbers\":\"strict\",\"coloraxis\":{\"colorbar\":{\"outlinewidth\":0,\"ticks\":\"\"}},\"colorscale\":{\"diverging\":[[0,\"#8e0152\"],[0.1,\"#c51b7d\"],[0.2,\"#de77ae\"],[0.3,\"#f1b6da\"],[0.4,\"#fde0ef\"],[0.5,\"#f7f7f7\"],[0.6,\"#e6f5d0\"],[0.7,\"#b8e186\"],[0.8,\"#7fbc41\"],[0.9,\"#4d9221\"],[1,\"#276419\"]],\"sequential\":[[0.0,\"#0d0887\"],[0.1111111111111111,\"#46039f\"],[0.2222222222222222,\"#7201a8\"],[0.3333333333333333,\"#9c179e\"],[0.4444444444444444,\"#bd3786\"],[0.5555555555555556,\"#d8576b\"],[0.6666666666666666,\"#ed7953\"],[0.7777777777777778,\"#fb9f3a\"],[0.8888888888888888,\"#fdca26\"],[1.0,\"#f0f921\"]],\"sequentialminus\":[[0.0,\"#0d0887\"],[0.1111111111111111,\"#46039f\"],[0.2222222222222222,\"#7201a8\"],[0.3333333333333333,\"#9c179e\"],[0.4444444444444444,\"#bd3786\"],[0.5555555555555556,\"#d8576b\"],[0.6666666666666666,\"#ed7953\"],[0.7777777777777778,\"#fb9f3a\"],[0.8888888888888888,\"#fdca26\"],[1.0,\"#f0f921\"]]},\"colorway\":[\"#636efa\",\"#EF553B\",\"#00cc96\",\"#ab63fa\",\"#FFA15A\",\"#19d3f3\",\"#FF6692\",\"#B6E880\",\"#FF97FF\",\"#FECB52\"],\"font\":{\"color\":\"#2a3f5f\"},\"geo\":{\"bgcolor\":\"white\",\"lakecolor\":\"white\",\"landcolor\":\"#E5ECF6\",\"showlakes\":true,\"showland\":true,\"subunitcolor\":\"white\"},\"hoverlabel\":{\"align\":\"left\"},\"hovermode\":\"closest\",\"mapbox\":{\"style\":\"light\"},\"paper_bgcolor\":\"white\",\"plot_bgcolor\":\"#E5ECF6\",\"polar\":{\"angularaxis\":{\"gridcolor\":\"white\",\"linecolor\":\"white\",\"ticks\":\"\"},\"bgcolor\":\"#E5ECF6\",\"radialaxis\":{\"gridcolor\":\"white\",\"linecolor\":\"white\",\"ticks\":\"\"}},\"scene\":{\"xaxis\":{\"backgroundcolor\":\"#E5ECF6\",\"gridcolor\":\"white\",\"gridwidth\":2,\"linecolor\":\"white\",\"showbackground\":true,\"ticks\":\"\",\"zerolinecolor\":\"white\"},\"yaxis\":{\"backgroundcolor\":\"#E5ECF6\",\"gridcolor\":\"white\",\"gridwidth\":2,\"linecolor\":\"white\",\"showbackground\":true,\"ticks\":\"\",\"zerolinecolor\":\"white\"},\"zaxis\":{\"backgroundcolor\":\"#E5ECF6\",\"gridcolor\":\"white\",\"gridwidth\":2,\"linecolor\":\"white\",\"showbackground\":true,\"ticks\":\"\",\"zerolinecolor\":\"white\"}},\"shapedefaults\":{\"line\":{\"color\":\"#2a3f5f\"}},\"ternary\":{\"aaxis\":{\"gridcolor\":\"white\",\"linecolor\":\"white\",\"ticks\":\"\"},\"baxis\":{\"gridcolor\":\"white\",\"linecolor\":\"white\",\"ticks\":\"\"},\"bgcolor\":\"#E5ECF6\",\"caxis\":{\"gridcolor\":\"white\",\"linecolor\":\"white\",\"ticks\":\"\"}},\"title\":{\"x\":0.05},\"xaxis\":{\"automargin\":true,\"gridcolor\":\"white\",\"linecolor\":\"white\",\"ticks\":\"\",\"title\":{\"standoff\":15},\"zerolinecolor\":\"white\",\"zerolinewidth\":2},\"yaxis\":{\"automargin\":true,\"gridcolor\":\"white\",\"linecolor\":\"white\",\"ticks\":\"\",\"title\":{\"standoff\":15},\"zerolinecolor\":\"white\",\"zerolinewidth\":2}}},\"xaxis\":{\"anchor\":\"y\",\"domain\":[0.0,1.0],\"title\":{\"text\":\"Fosforo\"}},\"yaxis\":{\"anchor\":\"x\",\"domain\":[0.0,1.0],\"title\":{\"text\":\"count\"}},\"legend\":{\"tracegroupgap\":0},\"margin\":{\"t\":60},\"barmode\":\"relative\"},                        {\"responsive\": true}                    ).then(function(){\n",
              "                            \n",
              "var gd = document.getElementById('27bef48b-3d03-4e96-ae26-57998b899e44');\n",
              "var x = new MutationObserver(function (mutations, observer) {{\n",
              "        var display = window.getComputedStyle(gd).display;\n",
              "        if (!display || display === 'none') {{\n",
              "            console.log([gd, 'removed!']);\n",
              "            Plotly.purge(gd);\n",
              "            observer.disconnect();\n",
              "        }}\n",
              "}});\n",
              "\n",
              "// Listen for the removal of the full notebook cells\n",
              "var notebookContainer = gd.closest('#notebook-container');\n",
              "if (notebookContainer) {{\n",
              "    x.observe(notebookContainer, {childList: true});\n",
              "}}\n",
              "\n",
              "// Listen for the clearing of the current output cell\n",
              "var outputEl = gd.closest('.output');\n",
              "if (outputEl) {{\n",
              "    x.observe(outputEl, {childList: true});\n",
              "}}\n",
              "\n",
              "                        })                };                            </script>        </div>\n",
              "</body>\n",
              "</html>"
            ]
          },
          "metadata": {}
        }
      ],
      "source": [
        "fig = px.histogram(dataAnalisis, x=\"Fosforo\")\n",
        "fig.show()"
      ]
    },
    {
      "cell_type": "markdown",
      "metadata": {
        "id": "bu9MOUZp1DUG"
      },
      "source": [
        "## Correlaciones"
      ]
    },
    {
      "cell_type": "code",
      "execution_count": 9,
      "metadata": {
        "colab": {
          "base_uri": "https://localhost:8080/",
          "height": 253
        },
        "id": "7QCck50Zw9IJ",
        "outputId": "810e070d-34ab-491f-b3a7-1e0933032752"
      },
      "outputs": [
        {
          "output_type": "execute_result",
          "data": {
            "text/plain": [
              "<seaborn.axisgrid.PairGrid at 0x7f37f2929410>"
            ]
          },
          "metadata": {},
          "execution_count": 9
        },
        {
          "output_type": "display_data",
          "data": {
            "text/plain": [
              "<Figure size 2160x180 with 12 Axes>"
            ],
            "image/png": "[encoded data removed]"
          },
          "metadata": {
            "needs_background": "light"
          }
        },
        {
          "output_type": "display_data",
          "data": {
            "text/plain": [
              "<Figure size 2160x180 with 12 Axes>"
            ],
            "image/png": "[encoded data removed]"
          },
          "metadata": {
            "needs_background": "light"
          }
        }
      ],
      "source": [
        "import seaborn as sns\n",
        "sns.pairplot(remove_out(dataAnalisis, 'Fosforo'),x_vars=[\"B1\", \"B2\", \"B3\", \"B4\", \"B5\", \"B6\", \"B7\", \"B8\", \"B8A\", \"B9\", \"B11\", \"B12\"],\n",
        "    y_vars=[\"Fosforo\"])\n",
        "sns.pairplot(dataAnalisis,x_vars=[\"B1\", \"B2\", \"B3\", \"B4\", \"B5\", \"B6\", \"B7\", \"B8\", \"B8A\", \"B9\", \"B11\", \"B12\"],\n",
        "    y_vars=[\"Fosforo\"])"
      ]
    },
    {
      "cell_type": "markdown",
      "metadata": {
        "id": "HT_MXCmiAWGC"
      },
      "source": [
        "## Líneas"
      ]
    },
    {
      "cell_type": "code",
      "execution_count": 10,
      "metadata": {
        "id": "zfhypn36BObM"
      },
      "outputs": [],
      "source": [
        "plt.rcParams[\"figure.figsize\"] = [7.50, 3.50]\n",
        "plt.rcParams[\"figure.autolayout\"] = True\n",
        "overlapping = 0.150"
      ]
    },
    {
      "cell_type": "code",
      "execution_count": 11,
      "metadata": {
        "id": "wYUBhNSRCBp3"
      },
      "outputs": [],
      "source": [
        "qFosforo=getQuartiles(dataAnalisis, 'Fosforo')"
      ]
    },
    {
      "cell_type": "code",
      "execution_count": 12,
      "metadata": {
        "id": "4s4LUu-tCji-"
      },
      "outputs": [],
      "source": [
        "dataAnalisis1=dataAnalisis.loc[(dataAnalisis['Fosforo']>=qFosforo[0]) & (dataAnalisis['Fosforo']<=qFosforo[1])]\n",
        "dataAnalisis2=dataAnalisis.loc[(dataAnalisis['Fosforo']>=qFosforo[1]) & (dataAnalisis['Fosforo']<=qFosforo[2])]\n",
        "dataAnalisis3=dataAnalisis.loc[(dataAnalisis['Fosforo']>=qFosforo[2]) & (dataAnalisis['Fosforo']<=qFosforo[3])]\n",
        "dataAnalisis4=dataAnalisis.loc[(dataAnalisis['Fosforo']>=qFosforo[3]) & (dataAnalisis['Fosforo']<=qFosforo[4])]"
      ]
    },
    {
      "cell_type": "code",
      "execution_count": 13,
      "metadata": {
        "colab": {
          "base_uri": "https://localhost:8080/",
          "height": 261
        },
        "id": "fkSD31ZXC-WS",
        "outputId": "f6c417ec-e9da-49f5-d8ec-56b61df87914"
      },
      "outputs": [
        {
          "output_type": "display_data",
          "data": {
            "text/plain": [
              "<Figure size 540x252 with 1 Axes>"
            ],
            "image/png": "[encoded data removed]"
          },
          "metadata": {
            "needs_background": "light"
          }
        }
      ],
      "source": [
        "for index, row in dataAnalisis1.drop('Fosforo',axis=1).iterrows():\n",
        "  line=plt.plot(row, alpha=overlapping,lw=5)\n",
        "plt.axhline(y=0.4, color='r', linestyle='--')\n",
        "plt.axhline(y=0.3, color='r', linestyle='--')\n",
        "plt.show()"
      ]
    },
    {
      "cell_type": "code",
      "execution_count": 14,
      "metadata": {
        "colab": {
          "base_uri": "https://localhost:8080/",
          "height": 261
        },
        "id": "wKhwMcKiDAOa",
        "outputId": "f4ec7520-5c61-4a1f-e8b2-9a7f17cc3852"
      },
      "outputs": [
        {
          "output_type": "display_data",
          "data": {
            "text/plain": [
              "<Figure size 540x252 with 1 Axes>"
            ],
            "image/png": "[encoded data removed]"
          },
          "metadata": {
            "needs_background": "light"
          }
        }
      ],
      "source": [
        "for index, row in dataAnalisis2.drop('Fosforo',axis=1).iterrows():\n",
        "  line=plt.plot(row, alpha=overlapping,lw=5)\n",
        "plt.axhline(y=0.4, color='r', linestyle='--')\n",
        "plt.axhline(y=0.3, color='r', linestyle='--')\n",
        "plt.show()"
      ]
    },
    {
      "cell_type": "code",
      "execution_count": 15,
      "metadata": {
        "colab": {
          "base_uri": "https://localhost:8080/",
          "height": 261
        },
        "id": "O0gNN0CjDAeb",
        "outputId": "fc57cddb-441d-4439-c259-3d6e2a86a592"
      },
      "outputs": [
        {
          "output_type": "display_data",
          "data": {
            "text/plain": [
              "<Figure size 540x252 with 1 Axes>"
            ],
            "image/png": "[encoded data removed]"
          },
          "metadata": {
            "needs_background": "light"
          }
        }
      ],
      "source": [
        "for index, row in dataAnalisis3.drop('Fosforo',axis=1).iterrows():\n",
        "  line=plt.plot(row, alpha=overlapping,lw=5)\n",
        "plt.axhline(y=0.4, color='r', linestyle='--')\n",
        "plt.axhline(y=0.3, color='r', linestyle='--')\n",
        "plt.show()"
      ]
    },
    {
      "cell_type": "code",
      "execution_count": 16,
      "metadata": {
        "colab": {
          "base_uri": "https://localhost:8080/",
          "height": 261
        },
        "id": "Ei6uwc9yDAsa",
        "outputId": "bab43030-cd5b-4fe2-b118-a31fedede4af"
      },
      "outputs": [
        {
          "output_type": "display_data",
          "data": {
            "text/plain": [
              "<Figure size 540x252 with 1 Axes>"
            ],
            "image/png": "[encoded data removed]"
          },
          "metadata": {
            "needs_background": "light"
          }
        }
      ],
      "source": [
        "for index, row in dataAnalisis4.drop('Fosforo',axis=1).iterrows():\n",
        "  line=plt.plot(row, alpha=overlapping,lw=5)\n",
        "plt.axhline(y=0.4, color='r', linestyle='--')\n",
        "plt.axhline(y=0.3, color='r', linestyle='--')\n",
        "plt.show()"
      ]
    },
    {
      "cell_type": "markdown",
      "source": [
        "# Modelos"
      ],
      "metadata": {
        "id": "5Glk0C4Qm--J"
      }
    },
    {
      "cell_type": "code",
      "execution_count": 17,
      "metadata": {
        "id": "ITLuTTjODf4-"
      },
      "outputs": [],
      "source": [
        "from sklearn.ensemble import RandomForestRegressor\n",
        "from sklearn import linear_model\n",
        "from sklearn.datasets import make_classification\n",
        "from sklearn.metrics import mean_squared_error\n",
        "from sklearn.neural_network import MLPRegressor\n",
        "from sklearn.preprocessing import StandardScaler\n",
        "from sklearn.model_selection import train_test_split"
      ]
    },
    {
      "cell_type": "code",
      "execution_count": 18,
      "metadata": {
        "id": "v1c_AfmPDiBi"
      },
      "outputs": [],
      "source": [
        "Y = dataAnalisis['Fosforo']\n",
        "X = dataAnalisis.drop(labels=['Fosforo'], axis=1)"
      ]
    },
    {
      "cell_type": "code",
      "execution_count": 19,
      "metadata": {
        "id": "WSVPUDSDEuWC"
      },
      "outputs": [],
      "source": [
        "X_train, X_test, Y_train, Y_test = train_test_split(X, Y, test_size=0.2)"
      ]
    },
    {
      "cell_type": "markdown",
      "source": [
        "## Random forrest"
      ],
      "metadata": {
        "id": "P5w_RAAqnJIC"
      }
    },
    {
      "cell_type": "code",
      "execution_count": 80,
      "metadata": {
        "colab": {
          "base_uri": "https://localhost:8080/"
        },
        "id": "MQ9JaK2rxCyW",
        "outputId": "8c46c0ae-74b0-4e8c-c9b3-83ba7dbb2dd3"
      },
      "outputs": [
        {
          "output_type": "execute_result",
          "data": {
            "text/plain": [
              "RandomForestRegressor(max_depth=8)"
            ]
          },
          "metadata": {},
          "execution_count": 80
        }
      ],
      "source": [
        "rfn = RandomForestRegressor(max_depth=8)\n",
        "rfn.fit(X_train, Y_train)"
      ]
    },
    {
      "cell_type": "code",
      "execution_count": 81,
      "metadata": {
        "id": "rqL6c-PexL55"
      },
      "outputs": [],
      "source": [
        "Yr_test=rfn.predict(X_test)\n",
        "Yr_train=rfn.predict(X_train)"
      ]
    },
    {
      "cell_type": "code",
      "execution_count": 82,
      "metadata": {
        "id": "ygc5rn_rxS8y",
        "colab": {
          "base_uri": "https://localhost:8080/"
        },
        "outputId": "d05a183e-9c31-496f-81e8-c4345594968e"
      },
      "outputs": [
        {
          "output_type": "execute_result",
          "data": {
            "text/plain": [
              "8.107917132818562e-05"
            ]
          },
          "metadata": {},
          "execution_count": 82
        }
      ],
      "source": [
        "mean_squared_error(Yr_test,Y_test)"
      ]
    },
    {
      "cell_type": "code",
      "execution_count": 83,
      "metadata": {
        "id": "8rtMNmSr0Cqu",
        "colab": {
          "base_uri": "https://localhost:8080/",
          "height": 261
        },
        "outputId": "ecef66f2-4e18-406c-c975-d5fd33295dc9"
      },
      "outputs": [
        {
          "output_type": "display_data",
          "data": {
            "text/plain": [
              "<Figure size 540x252 with 1 Axes>"
            ],
            "image/png": "[encoded data removed]"
          },
          "metadata": {
            "needs_background": "light"
          }
        }
      ],
      "source": [
        "plt.scatter(Yr_test, Y_test)\n",
        "plt.show()"
      ]
    },
    {
      "cell_type": "code",
      "execution_count": 84,
      "metadata": {
        "id": "gCixYn94yHhp",
        "colab": {
          "base_uri": "https://localhost:8080/"
        },
        "outputId": "5719e417-2661-4a79-e993-b9a554945f5f"
      },
      "outputs": [
        {
          "output_type": "execute_result",
          "data": {
            "text/plain": [
              "0.00032830847733985387"
            ]
          },
          "metadata": {},
          "execution_count": 84
        }
      ],
      "source": [
        "mean_squared_error(Yr_train,Y_train)"
      ]
    },
    {
      "cell_type": "code",
      "execution_count": 85,
      "metadata": {
        "id": "tXvFtQ8f0Dpo",
        "colab": {
          "base_uri": "https://localhost:8080/",
          "height": 261
        },
        "outputId": "20871d67-56c5-41ff-bda9-4c26a62a2028"
      },
      "outputs": [
        {
          "output_type": "display_data",
          "data": {
            "text/plain": [
              "<Figure size 540x252 with 1 Axes>"
            ],
            "image/png": "[encoded data removed]"
          },
          "metadata": {
            "needs_background": "light"
          }
        }
      ],
      "source": [
        "plt.scatter(Yr_train, Y_train)\n",
        "plt.show()"
      ]
    },
    {
      "cell_type": "markdown",
      "source": [
        "## Regresión lineal"
      ],
      "metadata": {
        "id": "rc9Q1qbFnODA"
      }
    },
    {
      "cell_type": "code",
      "execution_count": 86,
      "metadata": {
        "id": "LNHKz0Wp7yEF",
        "outputId": "73d82648-6343-49bb-b84a-181e33cfe5e7",
        "colab": {
          "base_uri": "https://localhost:8080/"
        }
      },
      "outputs": [
        {
          "output_type": "stream",
          "name": "stdout",
          "text": [
            "0.06861585186440773\n",
            "[ -7.95752933   3.42961397   0.1630984   -5.98249828   8.66155215\n",
            " -52.58256841  31.48902971  40.53694506 -26.68293818  -0.38076248\n",
            "  -8.0790421   22.77833947]\n"
          ]
        }
      ],
      "source": [
        "lr=linear_model.LinearRegression()\n",
        "lr=lr.fit(X_train, Y_train)\n",
        "print(lr.intercept_)\n",
        "print(lr.coef_)"
      ]
    },
    {
      "cell_type": "code",
      "execution_count": 87,
      "metadata": {
        "id": "ffmZC2m58Qny"
      },
      "outputs": [],
      "source": [
        "Yl_test=lr.predict(X_test)\n",
        "Yl_train=lr.predict(X_train)"
      ]
    },
    {
      "cell_type": "code",
      "execution_count": 88,
      "metadata": {
        "id": "LB6X77UA8Xbt",
        "colab": {
          "base_uri": "https://localhost:8080/"
        },
        "outputId": "87d4a714-9664-4379-92e6-5d596ebea761"
      },
      "outputs": [
        {
          "output_type": "execute_result",
          "data": {
            "text/plain": [
              "0.0046683580141961695"
            ]
          },
          "metadata": {},
          "execution_count": 88
        }
      ],
      "source": [
        "mean_squared_error(Yl_test,Y_test)"
      ]
    },
    {
      "cell_type": "code",
      "execution_count": 89,
      "metadata": {
        "id": "vUNWJxeq8Z4D",
        "colab": {
          "base_uri": "https://localhost:8080/",
          "height": 261
        },
        "outputId": "b2605749-e946-4145-9632-978e10423cc7"
      },
      "outputs": [
        {
          "output_type": "display_data",
          "data": {
            "text/plain": [
              "<Figure size 540x252 with 1 Axes>"
            ],
            "image/png": "[encoded data removed]"
          },
          "metadata": {
            "needs_background": "light"
          }
        }
      ],
      "source": [
        "plt.scatter(Yl_test, Y_test)\n",
        "plt.show()"
      ]
    },
    {
      "cell_type": "code",
      "execution_count": 90,
      "metadata": {
        "id": "XwoYJTWQ8eU0",
        "colab": {
          "base_uri": "https://localhost:8080/"
        },
        "outputId": "976feea4-8f3c-4477-aa83-15bf495cd1c2"
      },
      "outputs": [
        {
          "output_type": "execute_result",
          "data": {
            "text/plain": [
              "0.04265398950669235"
            ]
          },
          "metadata": {},
          "execution_count": 90
        }
      ],
      "source": [
        "mean_squared_error(Yl_train,Y_train)"
      ]
    },
    {
      "cell_type": "code",
      "execution_count": 91,
      "metadata": {
        "id": "dikajH2_8fZU",
        "colab": {
          "base_uri": "https://localhost:8080/",
          "height": 261
        },
        "outputId": "4e00ad27-3525-4e39-b959-9277a34a15fd"
      },
      "outputs": [
        {
          "output_type": "display_data",
          "data": {
            "text/plain": [
              "<Figure size 540x252 with 1 Axes>"
            ],
            "image/png": "[encoded data removed]"
          },
          "metadata": {
            "needs_background": "light"
          }
        }
      ],
      "source": [
        "plt.scatter(Yl_train, Y_train)\n",
        "plt.show()"
      ]
    },
    {
      "cell_type": "markdown",
      "source": [
        "## Red neuronal"
      ],
      "metadata": {
        "id": "SkilGGelnRWi"
      }
    },
    {
      "cell_type": "code",
      "execution_count": 92,
      "metadata": {
        "id": "ZMnInpgr4vgJ",
        "colab": {
          "base_uri": "https://localhost:8080/"
        },
        "outputId": "96ae0003-4321-4122-a64e-ac036f3d87c3"
      },
      "outputs": [
        {
          "output_type": "execute_result",
          "data": {
            "text/plain": [
              "MLPRegressor(alpha=1e-05, hidden_layer_sizes=(64, 16, 8), max_iter=100000)"
            ]
          },
          "metadata": {},
          "execution_count": 92
        }
      ],
      "source": [
        "nnw = MLPRegressor(solver='adam', alpha=1e-5,hidden_layer_sizes=(64,16,8), max_iter=100000)\n",
        "nnw.fit(X_train, Y_train)"
      ]
    },
    {
      "cell_type": "code",
      "execution_count": 93,
      "metadata": {
        "id": "19I8vpvR48c3"
      },
      "outputs": [],
      "source": [
        "Yn_test=nnw.predict(X_test)\n",
        "Yn_train=nnw.predict(X_train)"
      ]
    },
    {
      "cell_type": "code",
      "execution_count": 94,
      "metadata": {
        "id": "Tk49PEWw5GWh",
        "colab": {
          "base_uri": "https://localhost:8080/"
        },
        "outputId": "9de14961-f34a-4705-bad0-1bd86b1b2f64"
      },
      "outputs": [
        {
          "output_type": "execute_result",
          "data": {
            "text/plain": [
              "0.0025055733458045986"
            ]
          },
          "metadata": {},
          "execution_count": 94
        }
      ],
      "source": [
        "mean_squared_error(Yn_test,Y_test)"
      ]
    },
    {
      "cell_type": "code",
      "execution_count": 95,
      "metadata": {
        "id": "a1ZBly8d5J81",
        "colab": {
          "base_uri": "https://localhost:8080/",
          "height": 261
        },
        "outputId": "8b38b413-3a46-40f9-92f6-6458da857424"
      },
      "outputs": [
        {
          "output_type": "display_data",
          "data": {
            "text/plain": [
              "<Figure size 540x252 with 1 Axes>"
            ],
            "image/png": "[encoded data removed]"
          },
          "metadata": {
            "needs_background": "light"
          }
        }
      ],
      "source": [
        "plt.scatter(Yn_test, Y_test)\n",
        "plt.show()"
      ]
    },
    {
      "cell_type": "code",
      "execution_count": 96,
      "metadata": {
        "id": "cQcQj-tx5NQf",
        "colab": {
          "base_uri": "https://localhost:8080/"
        },
        "outputId": "8204aa9b-82d3-405b-d03d-6c275780c445"
      },
      "outputs": [
        {
          "output_type": "execute_result",
          "data": {
            "text/plain": [
              "0.04636178820326833"
            ]
          },
          "metadata": {},
          "execution_count": 96
        }
      ],
      "source": [
        "mean_squared_error(Yn_train,Y_train)"
      ]
    },
    {
      "cell_type": "code",
      "execution_count": 97,
      "metadata": {
        "id": "HLSFqmtc5Ola",
        "colab": {
          "base_uri": "https://localhost:8080/",
          "height": 261
        },
        "outputId": "f4ab2543-ffce-42c4-c80b-6ec32a098a7e"
      },
      "outputs": [
        {
          "output_type": "display_data",
          "data": {
            "text/plain": [
              "<Figure size 540x252 with 1 Axes>"
            ],
            "image/png": "[encoded data removed]"
          },
          "metadata": {
            "needs_background": "light"
          }
        }
      ],
      "source": [
        "plt.scatter(Yn_train, Y_train)\n",
        "plt.show()"
      ]
    },
    {
      "cell_type": "markdown",
      "source": [
        "##Métricas"
      ],
      "metadata": {
        "id": "SElkWhVloJcJ"
      }
    },
    {
      "cell_type": "code",
      "execution_count": 98,
      "metadata": {
        "id": "K6vJglb8Du21",
        "colab": {
          "base_uri": "https://localhost:8080/",
          "height": 143
        },
        "outputId": "356e928b-108a-4793-9b52-30521c4feae5"
      },
      "outputs": [
        {
          "output_type": "execute_result",
          "data": {
            "text/plain": [
              "   Dataset Modelo   MSETest  MSETrain   Min   Max\n",
              "0  Fosforo    RFR  0.000081  0.000328  0.03  2.46\n",
              "1  Fosforo    SLR  0.004668  0.042654  0.03  2.46\n",
              "2  Fosforo   MLPR  0.002506  0.046362  0.03  2.46"
            ],
            "text/html": [
              "\n",
              "  <div id=\"df-b97cef3f-5665-4cc4-bccf-775db0df59ed\">\n",
              "    <div class=\"colab-df-container\">\n",
              "      <div>\n",
              "<style scoped>\n",
              "    .dataframe tbody tr th:only-of-type {\n",
              "        vertical-align: middle;\n",
              "    }\n",
              "\n",
              "    .dataframe tbody tr th {\n",
              "        vertical-align: top;\n",
              "    }\n",
              "\n",
              "    .dataframe thead th {\n",
              "        text-align: right;\n",
              "    }\n",
              "</style>\n",
              "<table border=\"1\" class=\"dataframe\">\n",
              "  <thead>\n",
              "    <tr style=\"text-align: right;\">\n",
              "      <th></th>\n",
              "      <th>Dataset</th>\n",
              "      <th>Modelo</th>\n",
              "      <th>MSETest</th>\n",
              "      <th>MSETrain</th>\n",
              "      <th>Min</th>\n",
              "      <th>Max</th>\n",
              "    </tr>\n",
              "  </thead>\n",
              "  <tbody>\n",
              "    <tr>\n",
              "      <th>0</th>\n",
              "      <td>Fosforo</td>\n",
              "      <td>RFR</td>\n",
              "      <td>0.000081</td>\n",
              "      <td>0.000328</td>\n",
              "      <td>0.03</td>\n",
              "      <td>2.46</td>\n",
              "    </tr>\n",
              "    <tr>\n",
              "      <th>1</th>\n",
              "      <td>Fosforo</td>\n",
              "      <td>SLR</td>\n",
              "      <td>0.004668</td>\n",
              "      <td>0.042654</td>\n",
              "      <td>0.03</td>\n",
              "      <td>2.46</td>\n",
              "    </tr>\n",
              "    <tr>\n",
              "      <th>2</th>\n",
              "      <td>Fosforo</td>\n",
              "      <td>MLPR</td>\n",
              "      <td>0.002506</td>\n",
              "      <td>0.046362</td>\n",
              "      <td>0.03</td>\n",
              "      <td>2.46</td>\n",
              "    </tr>\n",
              "  </tbody>\n",
              "</table>\n",
              "</div>\n",
              "      <button class=\"colab-df-convert\" onclick=\"convertToInteractive('df-b97cef3f-5665-4cc4-bccf-775db0df59ed')\"\n",
              "              title=\"Convert this dataframe to an interactive table.\"\n",
              "              style=\"display:none;\">\n",
              "        \n",
              "  <svg xmlns=\"http://www.w3.org/2000/svg\" height=\"24px\"viewBox=\"0 0 24 24\"\n",
              "       width=\"24px\">\n",
              "    <path d=\"M0 0h24v24H0V0z\" fill=\"none\"/>\n",
              "    <path d=\"M18.56 5.44l.94 2.06.94-2.06 2.06-.94-2.06-.94-.94-2.06-.94 2.06-2.06.94zm-11 1L8.5 8.5l.94-2.06 2.06-.94-2.06-.94L8.5 2.5l-.94 2.06-2.06.94zm10 10l.94 2.06.94-2.06 2.06-.94-2.06-.94-.94-2.06-.94 2.06-2.06.94z\"/><path d=\"M17.41 7.96l-1.37-1.37c-.4-.4-.92-.59-1.43-.59-.52 0-1.04.2-1.43.59L10.3 9.45l-7.72 7.72c-.78.78-.78 2.05 0 2.83L4 21.41c.39.39.9.59 1.41.59.51 0 1.02-.2 1.41-.59l7.78-7.78 2.81-2.81c.8-.78.8-2.07 0-2.86zM5.41 20L4 18.59l7.72-7.72 1.47 1.35L5.41 20z\"/>\n",
              "  </svg>\n",
              "      </button>\n",
              "      \n",
              "  <style>\n",
              "    .colab-df-container {\n",
              "      display:flex;\n",
              "      flex-wrap:wrap;\n",
              "      gap: 12px;\n",
              "    }\n",
              "\n",
              "    .colab-df-convert {\n",
              "      background-color: #E8F0FE;\n",
              "      border: none;\n",
              "      border-radius: 50%;\n",
              "      cursor: pointer;\n",
              "      display: none;\n",
              "      fill: #1967D2;\n",
              "      height: 32px;\n",
              "      padding: 0 0 0 0;\n",
              "      width: 32px;\n",
              "    }\n",
              "\n",
              "    .colab-df-convert:hover {\n",
              "      background-color: #E2EBFA;\n",
              "      box-shadow: 0px 1px 2px rgba(60, 64, 67, 0.3), 0px 1px 3px 1px rgba(60, 64, 67, 0.15);\n",
              "      fill: #174EA6;\n",
              "    }\n",
              "\n",
              "    [theme=dark] .colab-df-convert {\n",
              "      background-color: #3B4455;\n",
              "      fill: #D2E3FC;\n",
              "    }\n",
              "\n",
              "    [theme=dark] .colab-df-convert:hover {\n",
              "      background-color: #434B5C;\n",
              "      box-shadow: 0px 1px 3px 1px rgba(0, 0, 0, 0.15);\n",
              "      filter: drop-shadow(0px 1px 2px rgba(0, 0, 0, 0.3));\n",
              "      fill: #FFFFFF;\n",
              "    }\n",
              "  </style>\n",
              "\n",
              "      <script>\n",
              "        const buttonEl =\n",
              "          document.querySelector('#df-b97cef3f-5665-4cc4-bccf-775db0df59ed button.colab-df-convert');\n",
              "        buttonEl.style.display =\n",
              "          google.colab.kernel.accessAllowed ? 'block' : 'none';\n",
              "\n",
              "        async function convertToInteractive(key) {\n",
              "          const element = document.querySelector('#df-b97cef3f-5665-4cc4-bccf-775db0df59ed');\n",
              "          const dataTable =\n",
              "            await google.colab.kernel.invokeFunction('convertToInteractive',\n",
              "                                                     [key], {});\n",
              "          if (!dataTable) return;\n",
              "\n",
              "          const docLinkHtml = 'Like what you see? Visit the ' +\n",
              "            '<a target=\"_blank\" href=https://colab.research.google.com/notebooks/data_table.ipynb>data table notebook</a>'\n",
              "            + ' to learn more about interactive tables.';\n",
              "          element.innerHTML = '';\n",
              "          dataTable['output_type'] = 'display_data';\n",
              "          await google.colab.output.renderOutput(dataTable, element);\n",
              "          const docLink = document.createElement('div');\n",
              "          docLink.innerHTML = docLinkHtml;\n",
              "          element.appendChild(docLink);\n",
              "        }\n",
              "      </script>\n",
              "    </div>\n",
              "  </div>\n",
              "  "
            ]
          },
          "metadata": {},
          "execution_count": 98
        }
      ],
      "source": [
        "Dataset=['Fosforo','Fosforo','Fosforo']\n",
        "Model=['RFR','SLR','MLPR']\n",
        "MSETest=[mean_squared_error(Yr_test,Y_test), mean_squared_error(Yl_test,Y_test),mean_squared_error(Yn_test,Y_test)]\n",
        "MSETrain=[mean_squared_error(Yr_train,Y_train), mean_squared_error(Yl_train,Y_train), mean_squared_error(Yn_train,Y_train)]\n",
        "minarr=[dataAnalisis.min()[0],dataAnalisis.min()[0],dataAnalisis.min()[0]]\n",
        "maxarr=[dataAnalisis.max()[0],dataAnalisis.max()[0],dataAnalisis.max()[0]]\n",
        "Datasetpd = pd.DataFrame(Dataset)\n",
        "Datasetpd.columns = ['Dataset']\n",
        "Modelpd = pd.DataFrame(Model)\n",
        "Modelpd.columns=['Modelo']\n",
        "MSETestpd = pd.DataFrame(MSETest)\n",
        "MSETestpd.columns=['MSETest']\n",
        "MSETrainpd = pd.DataFrame(MSETrain)\n",
        "MSETrainpd.columns = ['MSETrain']\n",
        "minpd = pd.DataFrame(minarr)\n",
        "minpd.columns = ['Min']\n",
        "maxpd = pd.DataFrame(maxarr)\n",
        "maxpd.columns = ['Max']\n",
        "\n",
        "Track = Datasetpd.join(Modelpd)\n",
        "Track = Track.join(MSETestpd)\n",
        "Track = Track.join(MSETrainpd)\n",
        "Track = Track.join(minpd)\n",
        "Track = Track.join(maxpd)\n",
        "\n",
        "Track"
      ]
    },
    {
      "cell_type": "code",
      "source": [
        "Dataset=['Fosforo','Fosforo','Fosforo']\n",
        "Model=['RFR','SLR','MLPR']\n",
        "RMSETest=[np.sqrt(mean_squared_error(Yr_test,Y_test)), np.sqrt(mean_squared_error(Yl_test,Y_test)),np.sqrt(mean_squared_error(Yn_test,Y_test))]\n",
        "RMSETrain=[np.sqrt(mean_squared_error(Yr_train,Y_train)), np.sqrt(mean_squared_error(Yl_train,Y_train)), np.sqrt(mean_squared_error(Yn_train,Y_train))]\n",
        "minarr=[dataAnalisis.min()[0],dataAnalisis.min()[0],dataAnalisis.min()[0]]\n",
        "maxarr=[dataAnalisis.max()[0],dataAnalisis.max()[0],dataAnalisis.max()[0]]\n",
        "PercentageTest=[np.sqrt(mean_squared_error(Yr_test,Y_test))/(remove_out(dataAnalisis,'Fosforo')['Fosforo'].max()-remove_out(dataAnalisis,'Fosforo')['Fosforo'].min()),np.sqrt(mean_squared_error(Yl_test,Y_test))/(remove_out(dataAnalisis,'Fosforo')['Fosforo'].max()-remove_out(dataAnalisis,'Fosforo')['Fosforo'].min()), np.sqrt(mean_squared_error(Yn_test,Y_test))/(remove_out(dataAnalisis,'Fosforo')['Fosforo'].max()-remove_out(dataAnalisis,'Fosforo')['Fosforo'].min())]\n",
        "PercentageTrain=[np.sqrt(mean_squared_error(Yr_train,Y_train))/(remove_out(dataAnalisis,'Fosforo')['Fosforo'].max()-remove_out(dataAnalisis,'Fosforo')['Fosforo'].min()),np.sqrt(mean_squared_error(Yl_train,Y_train))/(remove_out(dataAnalisis,'Fosforo')['Fosforo'].max()-remove_out(dataAnalisis,'Fosforo')['Fosforo'].min()), np.sqrt(mean_squared_error(Yn_train,Y_train))/(remove_out(dataAnalisis,'Fosforo')['Fosforo'].max()-remove_out(dataAnalisis,'Fosforo')['Fosforo'].min())]\n",
        "Datasetpd = pd.DataFrame(Dataset)\n",
        "Datasetpd.columns = ['Dataset']\n",
        "Modelpd = pd.DataFrame(Model)\n",
        "Modelpd.columns=['Modelo']\n",
        "RMSETestpd = pd.DataFrame(RMSETest)\n",
        "RMSETestpd.columns=['RMSETest']\n",
        "RMSETrainpd = pd.DataFrame(RMSETrain)\n",
        "RMSETrainpd.columns = ['RMSETrain']\n",
        "minpd = pd.DataFrame(minarr)\n",
        "minpd.columns = ['Min']\n",
        "maxpd = pd.DataFrame(maxarr)\n",
        "maxpd.columns = ['Max']\n",
        "PercTestpd=pd.DataFrame(PercentageTest)\n",
        "PercTestpd.columns = ['Porcentaje de error test']\n",
        "PercTrainpd=pd.DataFrame(PercentageTrain)\n",
        "PercTrainpd.columns = ['Porcentaje de error train']\n",
        "\n",
        "Track = Datasetpd.join(Modelpd)\n",
        "Track = Track.join(RMSETestpd)\n",
        "Track = Track.join(RMSETrainpd)\n",
        "Track = Track.join(minpd)\n",
        "Track = Track.join(maxpd)\n",
        "Track = Track.join(PercTestpd)\n",
        "Track = Track.join(PercTrainpd)\n",
        "\n",
        "Track"
      ],
      "metadata": {
        "colab": {
          "base_uri": "https://localhost:8080/",
          "height": 143
        },
        "id": "oPnKLvr-n-OG",
        "outputId": "8c54608d-326e-4ff1-8d90-1b6cfc4c0bfe"
      },
      "execution_count": 99,
      "outputs": [
        {
          "output_type": "execute_result",
          "data": {
            "text/plain": [
              "   Dataset Modelo  RMSETest  RMSETrain   Min   Max  Porcentaje de error test  \\\n",
              "0  Fosforo    RFR  0.009004   0.018119  0.03  2.46                  0.050024   \n",
              "1  Fosforo    SLR  0.068325   0.206528  0.03  2.46                  0.379585   \n",
              "2  Fosforo   MLPR  0.050056   0.215318  0.03  2.46                  0.278087   \n",
              "\n",
              "   Porcentaje de error train  \n",
              "0                   0.100663  \n",
              "1                   1.147380  \n",
              "2                   1.196210  "
            ],
            "text/html": [
              "\n",
              "  <div id=\"df-05eeff9a-547b-4a2a-adef-725209311f38\">\n",
              "    <div class=\"colab-df-container\">\n",
              "      <div>\n",
              "<style scoped>\n",
              "    .dataframe tbody tr th:only-of-type {\n",
              "        vertical-align: middle;\n",
              "    }\n",
              "\n",
              "    .dataframe tbody tr th {\n",
              "        vertical-align: top;\n",
              "    }\n",
              "\n",
              "    .dataframe thead th {\n",
              "        text-align: right;\n",
              "    }\n",
              "</style>\n",
              "<table border=\"1\" class=\"dataframe\">\n",
              "  <thead>\n",
              "    <tr style=\"text-align: right;\">\n",
              "      <th></th>\n",
              "      <th>Dataset</th>\n",
              "      <th>Modelo</th>\n",
              "      <th>RMSETest</th>\n",
              "      <th>RMSETrain</th>\n",
              "      <th>Min</th>\n",
              "      <th>Max</th>\n",
              "      <th>Porcentaje de error test</th>\n",
              "      <th>Porcentaje de error train</th>\n",
              "    </tr>\n",
              "  </thead>\n",
              "  <tbody>\n",
              "    <tr>\n",
              "      <th>0</th>\n",
              "      <td>Fosforo</td>\n",
              "      <td>RFR</td>\n",
              "      <td>0.009004</td>\n",
              "      <td>0.018119</td>\n",
              "      <td>0.03</td>\n",
              "      <td>2.46</td>\n",
              "      <td>0.050024</td>\n",
              "      <td>0.100663</td>\n",
              "    </tr>\n",
              "    <tr>\n",
              "      <th>1</th>\n",
              "      <td>Fosforo</td>\n",
              "      <td>SLR</td>\n",
              "      <td>0.068325</td>\n",
              "      <td>0.206528</td>\n",
              "      <td>0.03</td>\n",
              "      <td>2.46</td>\n",
              "      <td>0.379585</td>\n",
              "      <td>1.147380</td>\n",
              "    </tr>\n",
              "    <tr>\n",
              "      <th>2</th>\n",
              "      <td>Fosforo</td>\n",
              "      <td>MLPR</td>\n",
              "      <td>0.050056</td>\n",
              "      <td>0.215318</td>\n",
              "      <td>0.03</td>\n",
              "      <td>2.46</td>\n",
              "      <td>0.278087</td>\n",
              "      <td>1.196210</td>\n",
              "    </tr>\n",
              "  </tbody>\n",
              "</table>\n",
              "</div>\n",
              "      <button class=\"colab-df-convert\" onclick=\"convertToInteractive('df-05eeff9a-547b-4a2a-adef-725209311f38')\"\n",
              "              title=\"Convert this dataframe to an interactive table.\"\n",
              "              style=\"display:none;\">\n",
              "        \n",
              "  <svg xmlns=\"http://www.w3.org/2000/svg\" height=\"24px\"viewBox=\"0 0 24 24\"\n",
              "       width=\"24px\">\n",
              "    <path d=\"M0 0h24v24H0V0z\" fill=\"none\"/>\n",
              "    <path d=\"M18.56 5.44l.94 2.06.94-2.06 2.06-.94-2.06-.94-.94-2.06-.94 2.06-2.06.94zm-11 1L8.5 8.5l.94-2.06 2.06-.94-2.06-.94L8.5 2.5l-.94 2.06-2.06.94zm10 10l.94 2.06.94-2.06 2.06-.94-2.06-.94-.94-2.06-.94 2.06-2.06.94z\"/><path d=\"M17.41 7.96l-1.37-1.37c-.4-.4-.92-.59-1.43-.59-.52 0-1.04.2-1.43.59L10.3 9.45l-7.72 7.72c-.78.78-.78 2.05 0 2.83L4 21.41c.39.39.9.59 1.41.59.51 0 1.02-.2 1.41-.59l7.78-7.78 2.81-2.81c.8-.78.8-2.07 0-2.86zM5.41 20L4 18.59l7.72-7.72 1.47 1.35L5.41 20z\"/>\n",
              "  </svg>\n",
              "      </button>\n",
              "      \n",
              "  <style>\n",
              "    .colab-df-container {\n",
              "      display:flex;\n",
              "      flex-wrap:wrap;\n",
              "      gap: 12px;\n",
              "    }\n",
              "\n",
              "    .colab-df-convert {\n",
              "      background-color: #E8F0FE;\n",
              "      border: none;\n",
              "      border-radius: 50%;\n",
              "      cursor: pointer;\n",
              "      display: none;\n",
              "      fill: #1967D2;\n",
              "      height: 32px;\n",
              "      padding: 0 0 0 0;\n",
              "      width: 32px;\n",
              "    }\n",
              "\n",
              "    .colab-df-convert:hover {\n",
              "      background-color: #E2EBFA;\n",
              "      box-shadow: 0px 1px 2px rgba(60, 64, 67, 0.3), 0px 1px 3px 1px rgba(60, 64, 67, 0.15);\n",
              "      fill: #174EA6;\n",
              "    }\n",
              "\n",
              "    [theme=dark] .colab-df-convert {\n",
              "      background-color: #3B4455;\n",
              "      fill: #D2E3FC;\n",
              "    }\n",
              "\n",
              "    [theme=dark] .colab-df-convert:hover {\n",
              "      background-color: #434B5C;\n",
              "      box-shadow: 0px 1px 3px 1px rgba(0, 0, 0, 0.15);\n",
              "      filter: drop-shadow(0px 1px 2px rgba(0, 0, 0, 0.3));\n",
              "      fill: #FFFFFF;\n",
              "    }\n",
              "  </style>\n",
              "\n",
              "      <script>\n",
              "        const buttonEl =\n",
              "          document.querySelector('#df-05eeff9a-547b-4a2a-adef-725209311f38 button.colab-df-convert');\n",
              "        buttonEl.style.display =\n",
              "          google.colab.kernel.accessAllowed ? 'block' : 'none';\n",
              "\n",
              "        async function convertToInteractive(key) {\n",
              "          const element = document.querySelector('#df-05eeff9a-547b-4a2a-adef-725209311f38');\n",
              "          const dataTable =\n",
              "            await google.colab.kernel.invokeFunction('convertToInteractive',\n",
              "                                                     [key], {});\n",
              "          if (!dataTable) return;\n",
              "\n",
              "          const docLinkHtml = 'Like what you see? Visit the ' +\n",
              "            '<a target=\"_blank\" href=https://colab.research.google.com/notebooks/data_table.ipynb>data table notebook</a>'\n",
              "            + ' to learn more about interactive tables.';\n",
              "          element.innerHTML = '';\n",
              "          dataTable['output_type'] = 'display_data';\n",
              "          await google.colab.output.renderOutput(dataTable, element);\n",
              "          const docLink = document.createElement('div');\n",
              "          docLink.innerHTML = docLinkHtml;\n",
              "          element.appendChild(docLink);\n",
              "        }\n",
              "      </script>\n",
              "    </div>\n",
              "  </div>\n",
              "  "
            ]
          },
          "metadata": {},
          "execution_count": 99
        }
      ]
    }
  ]
}